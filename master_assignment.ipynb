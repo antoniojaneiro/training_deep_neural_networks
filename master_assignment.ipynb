{
 "cells": [
  {
   "cell_type": "markdown",
   "metadata": {},
   "source": [
    "# Assignment 4\n",
    "\n",
    "The assignment 4 contains 3 questions and the due date is May 9th (Sunday) 23:59PM."
   ]
  },
  {
   "cell_type": "code",
   "execution_count": 1,
   "metadata": {},
   "outputs": [],
   "source": [
    "import numpy as np\n",
    "import pandas as pd\n",
    "import matplotlib.pyplot as plt\n",
    "\n",
    "%matplotlib inline"
   ]
  },
  {
   "cell_type": "markdown",
   "metadata": {},
   "source": [
    "## Question 1 Celonis Automation Bootcamp (20 points)\n",
    "\n",
    "In this question, you are simply asked to complete the bootcamp and upload the badge or compleion proof. \n"
   ]
  },
  {
   "cell_type": "code",
   "execution_count": 2,
   "metadata": {},
   "outputs": [],
   "source": [
    "#ye"
   ]
  },
  {
   "cell_type": "markdown",
   "metadata": {},
   "source": [
    "## Question 2 Training a deep neural network (80 points)\n",
    "\n",
    "Practice training a deep neural network on the CIFAR10 image dataset:\n"
   ]
  },
  {
   "cell_type": "code",
   "execution_count": 3,
   "metadata": {
    "collapsed": true,
    "jupyter": {
     "outputs_hidden": true
    },
    "tags": []
   },
   "outputs": [
    {
     "name": "stderr",
     "output_type": "stream",
     "text": [
      "WARNING: You are using pip version 22.0.4; however, version 22.1 is available.\n",
      "You should consider upgrading via the 'c:\\users\\anton\\anaconda3\\python.exe -m pip install --upgrade pip' command.\n"
     ]
    },
    {
     "name": "stdout",
     "output_type": "stream",
     "text": [
      "Requirement already satisfied: tensorflow in c:\\users\\anton\\anaconda3\\lib\\site-packages (2.8.0)\n",
      "Requirement already satisfied: six>=1.12.0 in c:\\users\\anton\\anaconda3\\lib\\site-packages (from tensorflow) (1.15.0)\n",
      "Requirement already satisfied: tensorflow-io-gcs-filesystem>=0.23.1 in c:\\users\\anton\\anaconda3\\lib\\site-packages (from tensorflow) (0.24.0)\n",
      "Requirement already satisfied: opt-einsum>=2.3.2 in c:\\users\\anton\\anaconda3\\lib\\site-packages (from tensorflow) (3.3.0)\n",
      "Requirement already satisfied: termcolor>=1.1.0 in c:\\users\\anton\\anaconda3\\lib\\site-packages (from tensorflow) (1.1.0)\n",
      "Requirement already satisfied: absl-py>=0.4.0 in c:\\users\\anton\\anaconda3\\lib\\site-packages (from tensorflow) (1.0.0)\n",
      "Requirement already satisfied: grpcio<2.0,>=1.24.3 in c:\\users\\anton\\anaconda3\\lib\\site-packages (from tensorflow) (1.44.0)\n",
      "Requirement already satisfied: tf-estimator-nightly==2.8.0.dev2021122109 in c:\\users\\anton\\anaconda3\\lib\\site-packages (from tensorflow) (2.8.0.dev2021122109)\n",
      "Requirement already satisfied: gast>=0.2.1 in c:\\users\\anton\\anaconda3\\lib\\site-packages (from tensorflow) (0.5.3)\n",
      "Requirement already satisfied: wrapt>=1.11.0 in c:\\users\\anton\\anaconda3\\lib\\site-packages (from tensorflow) (1.12.1)\n",
      "Requirement already satisfied: tensorboard<2.9,>=2.8 in c:\\users\\anton\\anaconda3\\lib\\site-packages (from tensorflow) (2.8.0)\n",
      "Requirement already satisfied: setuptools in c:\\users\\anton\\anaconda3\\lib\\site-packages (from tensorflow) (52.0.0.post20210125)\n",
      "Requirement already satisfied: protobuf>=3.9.2 in c:\\users\\anton\\anaconda3\\lib\\site-packages (from tensorflow) (3.20.0)\n",
      "Requirement already satisfied: flatbuffers>=1.12 in c:\\users\\anton\\anaconda3\\lib\\site-packages (from tensorflow) (2.0)\n",
      "Requirement already satisfied: keras<2.9,>=2.8.0rc0 in c:\\users\\anton\\anaconda3\\lib\\site-packages (from tensorflow) (2.8.0)\n",
      "Requirement already satisfied: google-pasta>=0.1.1 in c:\\users\\anton\\anaconda3\\lib\\site-packages (from tensorflow) (0.2.0)\n",
      "Requirement already satisfied: h5py>=2.9.0 in c:\\users\\anton\\anaconda3\\lib\\site-packages (from tensorflow) (2.10.0)\n",
      "Requirement already satisfied: libclang>=9.0.1 in c:\\users\\anton\\anaconda3\\lib\\site-packages (from tensorflow) (13.0.0)\n",
      "Requirement already satisfied: keras-preprocessing>=1.1.1 in c:\\users\\anton\\anaconda3\\lib\\site-packages (from tensorflow) (1.1.2)\n",
      "Requirement already satisfied: astunparse>=1.6.0 in c:\\users\\anton\\anaconda3\\lib\\site-packages (from tensorflow) (1.6.3)\n",
      "Requirement already satisfied: typing-extensions>=3.6.6 in c:\\users\\anton\\anaconda3\\lib\\site-packages (from tensorflow) (3.7.4.3)\n",
      "Requirement already satisfied: numpy>=1.20 in c:\\users\\anton\\anaconda3\\lib\\site-packages (from tensorflow) (1.20.1)\n",
      "Requirement already satisfied: wheel<1.0,>=0.23.0 in c:\\users\\anton\\anaconda3\\lib\\site-packages (from astunparse>=1.6.0->tensorflow) (0.36.2)\n",
      "Requirement already satisfied: tensorboard-plugin-wit>=1.6.0 in c:\\users\\anton\\anaconda3\\lib\\site-packages (from tensorboard<2.9,>=2.8->tensorflow) (1.8.1)\n",
      "Requirement already satisfied: google-auth<3,>=1.6.3 in c:\\users\\anton\\anaconda3\\lib\\site-packages (from tensorboard<2.9,>=2.8->tensorflow) (2.6.3)\n",
      "Requirement already satisfied: requests<3,>=2.21.0 in c:\\users\\anton\\anaconda3\\lib\\site-packages (from tensorboard<2.9,>=2.8->tensorflow) (2.25.1)\n",
      "Requirement already satisfied: werkzeug>=0.11.15 in c:\\users\\anton\\anaconda3\\lib\\site-packages (from tensorboard<2.9,>=2.8->tensorflow) (1.0.1)\n",
      "Requirement already satisfied: markdown>=2.6.8 in c:\\users\\anton\\anaconda3\\lib\\site-packages (from tensorboard<2.9,>=2.8->tensorflow) (3.3.6)\n",
      "Requirement already satisfied: tensorboard-data-server<0.7.0,>=0.6.0 in c:\\users\\anton\\anaconda3\\lib\\site-packages (from tensorboard<2.9,>=2.8->tensorflow) (0.6.1)\n",
      "Requirement already satisfied: google-auth-oauthlib<0.5,>=0.4.1 in c:\\users\\anton\\anaconda3\\lib\\site-packages (from tensorboard<2.9,>=2.8->tensorflow) (0.4.6)\n",
      "Requirement already satisfied: pyasn1-modules>=0.2.1 in c:\\users\\anton\\anaconda3\\lib\\site-packages (from google-auth<3,>=1.6.3->tensorboard<2.9,>=2.8->tensorflow) (0.2.8)\n",
      "Requirement already satisfied: cachetools<6.0,>=2.0.0 in c:\\users\\anton\\anaconda3\\lib\\site-packages (from google-auth<3,>=1.6.3->tensorboard<2.9,>=2.8->tensorflow) (5.0.0)\n",
      "Requirement already satisfied: rsa<5,>=3.1.4 in c:\\users\\anton\\anaconda3\\lib\\site-packages (from google-auth<3,>=1.6.3->tensorboard<2.9,>=2.8->tensorflow) (4.8)\n",
      "Requirement already satisfied: requests-oauthlib>=0.7.0 in c:\\users\\anton\\anaconda3\\lib\\site-packages (from google-auth-oauthlib<0.5,>=0.4.1->tensorboard<2.9,>=2.8->tensorflow) (1.3.1)\n",
      "Requirement already satisfied: importlib-metadata>=4.4 in c:\\users\\anton\\anaconda3\\lib\\site-packages (from markdown>=2.6.8->tensorboard<2.9,>=2.8->tensorflow) (4.11.3)\n",
      "Requirement already satisfied: chardet<5,>=3.0.2 in c:\\users\\anton\\anaconda3\\lib\\site-packages (from requests<3,>=2.21.0->tensorboard<2.9,>=2.8->tensorflow) (4.0.0)\n",
      "Requirement already satisfied: urllib3<1.27,>=1.21.1 in c:\\users\\anton\\anaconda3\\lib\\site-packages (from requests<3,>=2.21.0->tensorboard<2.9,>=2.8->tensorflow) (1.26.4)\n",
      "Requirement already satisfied: idna<3,>=2.5 in c:\\users\\anton\\anaconda3\\lib\\site-packages (from requests<3,>=2.21.0->tensorboard<2.9,>=2.8->tensorflow) (2.10)\n",
      "Requirement already satisfied: certifi>=2017.4.17 in c:\\users\\anton\\anaconda3\\lib\\site-packages (from requests<3,>=2.21.0->tensorboard<2.9,>=2.8->tensorflow) (2020.12.5)\n",
      "Requirement already satisfied: zipp>=0.5 in c:\\users\\anton\\anaconda3\\lib\\site-packages (from importlib-metadata>=4.4->markdown>=2.6.8->tensorboard<2.9,>=2.8->tensorflow) (3.4.1)\n",
      "Requirement already satisfied: pyasn1<0.5.0,>=0.4.6 in c:\\users\\anton\\anaconda3\\lib\\site-packages (from pyasn1-modules>=0.2.1->google-auth<3,>=1.6.3->tensorboard<2.9,>=2.8->tensorflow) (0.4.8)\n",
      "Requirement already satisfied: oauthlib>=3.0.0 in c:\\users\\anton\\anaconda3\\lib\\site-packages (from requests-oauthlib>=0.7.0->google-auth-oauthlib<0.5,>=0.4.1->tensorboard<2.9,>=2.8->tensorflow) (3.2.0)\n"
     ]
    }
   ],
   "source": [
    "!pip install tensorflow"
   ]
  },
  {
   "cell_type": "code",
   "execution_count": 4,
   "metadata": {},
   "outputs": [],
   "source": [
    "# TensorFlow ≥2.0 is required\n",
    "import tensorflow as tf\n",
    "from tensorflow import keras\n",
    "assert tf.__version__ >= \"2.0\"\n",
    "\n",
    "import numpy as np\n",
    "import matplotlib.pyplot as plt\n",
    "\n",
    "%matplotlib inline\n",
    "\n",
    "keras.backend.clear_session()\n",
    "tf.random.set_seed(42)\n",
    "np.random.seed(42)\n",
    "\n",
    "(X_train_full, y_train_full), (X_test, y_test) = keras.datasets.cifar10.load_data()\n",
    "\n",
    "X_train = X_train_full[5000:]\n",
    "y_train = y_train_full[5000:]\n",
    "X_valid = X_train_full[:5000]\n",
    "y_valid = y_train_full[:5000]"
   ]
  },
  {
   "cell_type": "code",
   "execution_count": 5,
   "metadata": {},
   "outputs": [
    {
     "data": {
      "text/plain": [
       "(45000, 32, 32, 3)"
      ]
     },
     "execution_count": 5,
     "metadata": {},
     "output_type": "execute_result"
    }
   ],
   "source": [
    "X_train.shape"
   ]
  },
  {
   "cell_type": "code",
   "execution_count": 42,
   "metadata": {},
   "outputs": [
    {
     "data": {
      "text/plain": [
       "(5000, 32, 32, 3)"
      ]
     },
     "execution_count": 42,
     "metadata": {},
     "output_type": "execute_result"
    }
   ],
   "source": [
    "X_valid.shape"
   ]
  },
  {
   "cell_type": "markdown",
   "metadata": {},
   "source": [
    "### Question 2.1 (10 points) \n",
    "\n",
    "Build a Deep Neural Network (DNN) with 20 hidden layers of 100 neurons each (that’s too many, but it’s the point of this question), using the RELU activation function.\n",
    "\n",
    "Using Adam optimization, train the network on the CIFAR10 dataset. You can load it with keras.datasets.cifar10.load_ data() (see code below). The dataset is composed of 60,000 32 × 32–pixkeras.layers.Dense(10, activation=\"relu\", kernel_initializer=\"he_normal\")el color images (50,000 for training, 5000 of which is for validation, 10,000 for testing) with 10 classes using sparse_categorical_crossentropy loss function , so you’ll need a softmax output layer with 10 neurons. \n",
    "\n",
    "Train the model for 100 epochs, explain whether the model will experience overfitting. "
   ]
  },
  {
   "cell_type": "code",
   "execution_count": 43,
   "metadata": {},
   "outputs": [
    {
     "data": {
      "text/plain": [
       "<keras.layers.core.dense.Dense at 0x283282fdac0>"
      ]
     },
     "execution_count": 43,
     "metadata": {},
     "output_type": "execute_result"
    }
   ],
   "source": [
    "init = keras.initializers.VarianceScaling(scale=2., mode='fan_avg',distribution='uniform')\n",
    "keras.layers.Dense(20, activation=\"relu\", kernel_initializer=init)"
   ]
  },
  {
   "cell_type": "code",
   "execution_count": 44,
   "metadata": {},
   "outputs": [],
   "source": [
    "_20_100_layers = [100]*20\n",
    "\n",
    "model = keras.models.Sequential()\n",
    "\n",
    "model.add(keras.layers.Flatten(input_shape=[32, 32,3]))\n",
    "\n",
    "for n_hidden in _20_100_layers:\n",
    "    model.add(keras.layers.Dense(n_hidden, activation=\"relu\", kernel_initializer=\"he_normal\"))\n",
    "    \n",
    "model.add(keras.layers.Dense(10, activation=\"softmax\"))"
   ]
  },
  {
   "cell_type": "code",
   "execution_count": 45,
   "metadata": {},
   "outputs": [],
   "source": [
    "#optimizer = keras.optimizers.Adam(lr=0.001, beta_1=0.9, beta_2=0.999) is the optimizer we will be using"
   ]
  },
  {
   "cell_type": "code",
   "execution_count": 46,
   "metadata": {},
   "outputs": [],
   "source": [
    "model.compile(loss=\"sparse_categorical_crossentropy\",\n",
    "              optimizer= keras.optimizers.Adam(lr=0.001, beta_1=0.9, beta_2=0.999),\n",
    "              metrics=[\"accuracy\"])"
   ]
  },
  {
   "cell_type": "code",
   "execution_count": 47,
   "metadata": {
    "collapsed": true,
    "jupyter": {
     "outputs_hidden": true
    },
    "tags": []
   },
   "outputs": [
    {
     "name": "stdout",
     "output_type": "stream",
     "text": [
      "Epoch 1/100\n",
      "1407/1407 [==============================] - 9s 6ms/step - loss: 4.1351 - accuracy: 0.1835 - val_loss: 1.9890 - val_accuracy: 0.2650\n",
      "Epoch 2/100\n",
      "1407/1407 [==============================] - 8s 6ms/step - loss: 1.9952 - accuracy: 0.2552 - val_loss: 1.8912 - val_accuracy: 0.2836\n",
      "Epoch 3/100\n",
      "1407/1407 [==============================] - 9s 6ms/step - loss: 1.9491 - accuracy: 0.2823 - val_loss: 1.9572 - val_accuracy: 0.2838\n",
      "Epoch 4/100\n",
      "1407/1407 [==============================] - 8s 6ms/step - loss: 1.9287 - accuracy: 0.2872 - val_loss: 1.9180 - val_accuracy: 0.2988\n",
      "Epoch 5/100\n",
      "1407/1407 [==============================] - 9s 6ms/step - loss: 1.9035 - accuracy: 0.3002 - val_loss: 1.8570 - val_accuracy: 0.3108\n",
      "Epoch 6/100\n",
      "1407/1407 [==============================] - 8s 6ms/step - loss: 1.9070 - accuracy: 0.3008 - val_loss: 1.8027 - val_accuracy: 0.3380\n",
      "Epoch 7/100\n",
      "1407/1407 [==============================] - 9s 6ms/step - loss: 1.8802 - accuracy: 0.3076 - val_loss: 1.8218 - val_accuracy: 0.3304\n",
      "Epoch 8/100\n",
      "1407/1407 [==============================] - 9s 6ms/step - loss: 1.8570 - accuracy: 0.3218 - val_loss: 1.8648 - val_accuracy: 0.3204\n",
      "Epoch 9/100\n",
      "1407/1407 [==============================] - 9s 6ms/step - loss: 1.8454 - accuracy: 0.3265 - val_loss: 1.8519 - val_accuracy: 0.3332\n",
      "Epoch 10/100\n",
      "1407/1407 [==============================] - 9s 6ms/step - loss: 1.8201 - accuracy: 0.3379 - val_loss: 1.8222 - val_accuracy: 0.3404\n",
      "Epoch 11/100\n",
      "1407/1407 [==============================] - 9s 6ms/step - loss: 1.8011 - accuracy: 0.3480 - val_loss: 1.7730 - val_accuracy: 0.3620\n",
      "Epoch 12/100\n",
      "1407/1407 [==============================] - 9s 6ms/step - loss: 1.7857 - accuracy: 0.3480 - val_loss: 1.7440 - val_accuracy: 0.3602\n",
      "Epoch 13/100\n",
      "1407/1407 [==============================] - 9s 6ms/step - loss: 1.7692 - accuracy: 0.3554 - val_loss: 1.7849 - val_accuracy: 0.3608\n",
      "Epoch 14/100\n",
      "1407/1407 [==============================] - 9s 6ms/step - loss: 1.7494 - accuracy: 0.3665 - val_loss: 1.7499 - val_accuracy: 0.3698\n",
      "Epoch 15/100\n",
      "1407/1407 [==============================] - 9s 6ms/step - loss: 1.7437 - accuracy: 0.3695 - val_loss: 1.7361 - val_accuracy: 0.3776\n",
      "Epoch 16/100\n",
      "1407/1407 [==============================] - 9s 6ms/step - loss: 1.7341 - accuracy: 0.3733 - val_loss: 1.7619 - val_accuracy: 0.3480\n",
      "Epoch 17/100\n",
      "1407/1407 [==============================] - 9s 6ms/step - loss: 1.7413 - accuracy: 0.3642 - val_loss: 1.8198 - val_accuracy: 0.3404\n",
      "Epoch 18/100\n",
      "1407/1407 [==============================] - 9s 6ms/step - loss: 1.7133 - accuracy: 0.3814 - val_loss: 1.6844 - val_accuracy: 0.3928\n",
      "Epoch 19/100\n",
      "1407/1407 [==============================] - 9s 6ms/step - loss: 1.6941 - accuracy: 0.3873 - val_loss: 1.7129 - val_accuracy: 0.3930\n",
      "Epoch 20/100\n",
      "1407/1407 [==============================] - 9s 6ms/step - loss: 1.6934 - accuracy: 0.3902 - val_loss: 1.7429 - val_accuracy: 0.3670\n",
      "Epoch 21/100\n",
      "1407/1407 [==============================] - 9s 6ms/step - loss: 1.6891 - accuracy: 0.3915 - val_loss: 1.7234 - val_accuracy: 0.3738\n",
      "Epoch 22/100\n",
      "1407/1407 [==============================] - 9s 7ms/step - loss: 1.6809 - accuracy: 0.3936 - val_loss: 1.7226 - val_accuracy: 0.3956\n",
      "Epoch 23/100\n",
      "1407/1407 [==============================] - 9s 6ms/step - loss: 1.7145 - accuracy: 0.3806 - val_loss: 1.6986 - val_accuracy: 0.3894\n",
      "Epoch 24/100\n",
      "1407/1407 [==============================] - 9s 6ms/step - loss: 1.6792 - accuracy: 0.3928 - val_loss: 1.6734 - val_accuracy: 0.4030\n",
      "Epoch 25/100\n",
      "1407/1407 [==============================] - 9s 6ms/step - loss: 1.6765 - accuracy: 0.3976 - val_loss: 1.6841 - val_accuracy: 0.3998\n",
      "Epoch 26/100\n",
      "1407/1407 [==============================] - 9s 6ms/step - loss: 1.6650 - accuracy: 0.3987 - val_loss: 1.7354 - val_accuracy: 0.3800\n",
      "Epoch 27/100\n",
      "1407/1407 [==============================] - 9s 7ms/step - loss: 1.6641 - accuracy: 0.4010 - val_loss: 1.7506 - val_accuracy: 0.3722\n",
      "Epoch 28/100\n",
      "1407/1407 [==============================] - 9s 6ms/step - loss: 1.6460 - accuracy: 0.4103 - val_loss: 1.6784 - val_accuracy: 0.4012\n",
      "Epoch 29/100\n",
      "1407/1407 [==============================] - 9s 6ms/step - loss: 1.6397 - accuracy: 0.4118 - val_loss: 1.6684 - val_accuracy: 0.4018\n",
      "Epoch 30/100\n",
      "1407/1407 [==============================] - 9s 6ms/step - loss: 1.6384 - accuracy: 0.4150 - val_loss: 1.6981 - val_accuracy: 0.4084\n",
      "Epoch 31/100\n",
      "1407/1407 [==============================] - 9s 6ms/step - loss: 1.6383 - accuracy: 0.4112 - val_loss: 1.6663 - val_accuracy: 0.4078\n",
      "Epoch 32/100\n",
      "1407/1407 [==============================] - 9s 6ms/step - loss: 1.6264 - accuracy: 0.4183 - val_loss: 1.6661 - val_accuracy: 0.4120\n",
      "Epoch 33/100\n",
      "1407/1407 [==============================] - 8s 6ms/step - loss: 1.6218 - accuracy: 0.4201 - val_loss: 1.6691 - val_accuracy: 0.4044\n",
      "Epoch 34/100\n",
      "1407/1407 [==============================] - 9s 6ms/step - loss: 1.6240 - accuracy: 0.4165 - val_loss: 1.6785 - val_accuracy: 0.3946\n",
      "Epoch 35/100\n",
      "1407/1407 [==============================] - 9s 6ms/step - loss: 1.6194 - accuracy: 0.4207 - val_loss: 1.6686 - val_accuracy: 0.4050\n",
      "Epoch 36/100\n",
      "1407/1407 [==============================] - 9s 6ms/step - loss: 1.6736 - accuracy: 0.3949 - val_loss: 1.6854 - val_accuracy: 0.4006\n",
      "Epoch 37/100\n",
      "1407/1407 [==============================] - 9s 6ms/step - loss: 1.6187 - accuracy: 0.4197 - val_loss: 1.6383 - val_accuracy: 0.4226\n",
      "Epoch 38/100\n",
      "1407/1407 [==============================] - 9s 6ms/step - loss: 1.6741 - accuracy: 0.3926 - val_loss: 1.7126 - val_accuracy: 0.3930\n",
      "Epoch 39/100\n",
      "1407/1407 [==============================] - 9s 6ms/step - loss: 1.6892 - accuracy: 0.3896 - val_loss: 1.6647 - val_accuracy: 0.4086\n",
      "Epoch 40/100\n",
      "1407/1407 [==============================] - 9s 6ms/step - loss: 1.5974 - accuracy: 0.4278 - val_loss: 1.7037 - val_accuracy: 0.4012\n",
      "Epoch 41/100\n",
      "1407/1407 [==============================] - 9s 6ms/step - loss: 1.6091 - accuracy: 0.4242 - val_loss: 1.7518 - val_accuracy: 0.3754\n",
      "Epoch 42/100\n",
      "1407/1407 [==============================] - 9s 6ms/step - loss: 1.5940 - accuracy: 0.4302 - val_loss: 1.7677 - val_accuracy: 0.3694\n",
      "Epoch 43/100\n",
      "1407/1407 [==============================] - 9s 6ms/step - loss: 1.5894 - accuracy: 0.4301 - val_loss: 1.6480 - val_accuracy: 0.4160\n",
      "Epoch 44/100\n",
      "1407/1407 [==============================] - 9s 7ms/step - loss: 1.5816 - accuracy: 0.4342 - val_loss: 1.6555 - val_accuracy: 0.4170\n",
      "Epoch 45/100\n",
      "1407/1407 [==============================] - 9s 6ms/step - loss: 1.5842 - accuracy: 0.4323 - val_loss: 1.6573 - val_accuracy: 0.4082\n",
      "Epoch 46/100\n",
      "1407/1407 [==============================] - 9s 6ms/step - loss: 1.5825 - accuracy: 0.4332 - val_loss: 1.6443 - val_accuracy: 0.4188\n",
      "Epoch 47/100\n",
      "1407/1407 [==============================] - 9s 6ms/step - loss: 1.5841 - accuracy: 0.4316 - val_loss: 1.6343 - val_accuracy: 0.4210\n",
      "Epoch 48/100\n",
      "1407/1407 [==============================] - 9s 6ms/step - loss: 1.6053 - accuracy: 0.4259 - val_loss: 2.2240 - val_accuracy: 0.1774\n",
      "Epoch 49/100\n",
      "1407/1407 [==============================] - 9s 6ms/step - loss: 2.1280 - accuracy: 0.1804 - val_loss: 2.1016 - val_accuracy: 0.1934\n",
      "Epoch 50/100\n",
      "1407/1407 [==============================] - 9s 6ms/step - loss: 2.0225 - accuracy: 0.2121 - val_loss: 1.9086 - val_accuracy: 0.2614\n",
      "Epoch 51/100\n",
      "1407/1407 [==============================] - 9s 6ms/step - loss: 1.9139 - accuracy: 0.2598 - val_loss: 1.8929 - val_accuracy: 0.2636\n",
      "Epoch 52/100\n",
      "1407/1407 [==============================] - 10s 7ms/step - loss: 1.8622 - accuracy: 0.2847 - val_loss: 1.8398 - val_accuracy: 0.2946\n",
      "Epoch 53/100\n",
      "1407/1407 [==============================] - 9s 7ms/step - loss: 1.8309 - accuracy: 0.3093 - val_loss: 1.8198 - val_accuracy: 0.3138\n",
      "Epoch 54/100\n",
      "1407/1407 [==============================] - 10s 7ms/step - loss: 1.7683 - accuracy: 0.3374 - val_loss: 1.7571 - val_accuracy: 0.3542\n",
      "Epoch 55/100\n",
      "1407/1407 [==============================] - 10s 7ms/step - loss: 1.8071 - accuracy: 0.3275 - val_loss: 1.8480 - val_accuracy: 0.3090\n",
      "Epoch 56/100\n",
      "1407/1407 [==============================] - 10s 7ms/step - loss: 1.8024 - accuracy: 0.3250 - val_loss: 1.7903 - val_accuracy: 0.3420\n",
      "Epoch 57/100\n",
      "1407/1407 [==============================] - 10s 7ms/step - loss: 1.7420 - accuracy: 0.3521 - val_loss: 1.7700 - val_accuracy: 0.3572\n",
      "Epoch 58/100\n",
      "1407/1407 [==============================] - 9s 7ms/step - loss: 1.7169 - accuracy: 0.3730 - val_loss: 1.7446 - val_accuracy: 0.3690\n",
      "Epoch 59/100\n",
      "1407/1407 [==============================] - 10s 7ms/step - loss: 1.6932 - accuracy: 0.3865 - val_loss: 1.6990 - val_accuracy: 0.3838\n",
      "Epoch 60/100\n",
      "1407/1407 [==============================] - 9s 7ms/step - loss: 1.6962 - accuracy: 0.3864 - val_loss: 1.7164 - val_accuracy: 0.3850\n",
      "Epoch 61/100\n",
      "1407/1407 [==============================] - 10s 7ms/step - loss: 1.7161 - accuracy: 0.3782 - val_loss: 1.7322 - val_accuracy: 0.3768\n",
      "Epoch 62/100\n",
      "1407/1407 [==============================] - 10s 7ms/step - loss: 1.6976 - accuracy: 0.3858 - val_loss: 1.8894 - val_accuracy: 0.3038\n",
      "Epoch 63/100\n",
      "1407/1407 [==============================] - 10s 7ms/step - loss: 1.7049 - accuracy: 0.3842 - val_loss: 1.7385 - val_accuracy: 0.3774\n",
      "Epoch 64/100\n",
      "1407/1407 [==============================] - 10s 7ms/step - loss: 1.7067 - accuracy: 0.3837 - val_loss: 1.7768 - val_accuracy: 0.3748\n",
      "Epoch 65/100\n",
      "1407/1407 [==============================] - 10s 7ms/step - loss: 1.7171 - accuracy: 0.3790 - val_loss: 1.7292 - val_accuracy: 0.3728\n",
      "Epoch 66/100\n",
      "1407/1407 [==============================] - 9s 7ms/step - loss: 1.9596 - accuracy: 0.2713 - val_loss: 1.9110 - val_accuracy: 0.2958\n",
      "Epoch 67/100\n",
      "1407/1407 [==============================] - 10s 7ms/step - loss: 1.8634 - accuracy: 0.3204 - val_loss: 1.8747 - val_accuracy: 0.3066\n",
      "Epoch 68/100\n",
      "1407/1407 [==============================] - 10s 7ms/step - loss: 1.9174 - accuracy: 0.2863 - val_loss: 1.8361 - val_accuracy: 0.3182\n",
      "Epoch 69/100\n",
      "1407/1407 [==============================] - 10s 7ms/step - loss: 1.8201 - accuracy: 0.3280 - val_loss: 1.8350 - val_accuracy: 0.3238\n",
      "Epoch 70/100\n",
      "1407/1407 [==============================] - 10s 7ms/step - loss: 1.8311 - accuracy: 0.3206 - val_loss: 1.7984 - val_accuracy: 0.3342\n",
      "Epoch 71/100\n",
      "1407/1407 [==============================] - 10s 7ms/step - loss: 1.7553 - accuracy: 0.3496 - val_loss: 1.8154 - val_accuracy: 0.3278\n",
      "Epoch 72/100\n",
      "1407/1407 [==============================] - 10s 7ms/step - loss: 1.7173 - accuracy: 0.3708 - val_loss: 1.7313 - val_accuracy: 0.3738\n",
      "Epoch 73/100\n",
      "1407/1407 [==============================] - 9s 7ms/step - loss: 1.7187 - accuracy: 0.3702 - val_loss: 1.7398 - val_accuracy: 0.3760\n",
      "Epoch 74/100\n",
      "1407/1407 [==============================] - 9s 7ms/step - loss: 1.7563 - accuracy: 0.3558 - val_loss: 1.8891 - val_accuracy: 0.3054\n",
      "Epoch 75/100\n",
      "1407/1407 [==============================] - 9s 6ms/step - loss: 1.7249 - accuracy: 0.3650 - val_loss: 1.7263 - val_accuracy: 0.3744\n",
      "Epoch 76/100\n",
      "1407/1407 [==============================] - 9s 6ms/step - loss: 1.6721 - accuracy: 0.3946 - val_loss: 1.7038 - val_accuracy: 0.3834\n",
      "Epoch 77/100\n",
      "1407/1407 [==============================] - 9s 6ms/step - loss: 1.6847 - accuracy: 0.3900 - val_loss: 1.7265 - val_accuracy: 0.3750\n",
      "Epoch 78/100\n",
      "1407/1407 [==============================] - 9s 6ms/step - loss: 1.7562 - accuracy: 0.3566 - val_loss: 1.9032 - val_accuracy: 0.2904\n",
      "Epoch 79/100\n",
      "1407/1407 [==============================] - 9s 6ms/step - loss: 1.7375 - accuracy: 0.3636 - val_loss: 1.7390 - val_accuracy: 0.3880\n",
      "Epoch 80/100\n",
      "1407/1407 [==============================] - 9s 6ms/step - loss: 1.6820 - accuracy: 0.3892 - val_loss: 1.7310 - val_accuracy: 0.3590\n",
      "Epoch 81/100\n",
      "1407/1407 [==============================] - 10s 7ms/step - loss: 1.7301 - accuracy: 0.3632 - val_loss: 1.9584 - val_accuracy: 0.2626\n",
      "Epoch 82/100\n",
      "1407/1407 [==============================] - 9s 6ms/step - loss: 1.9364 - accuracy: 0.2837 - val_loss: 1.9571 - val_accuracy: 0.2732\n",
      "Epoch 83/100\n",
      "1407/1407 [==============================] - 9s 7ms/step - loss: 1.9469 - accuracy: 0.2787 - val_loss: 1.9225 - val_accuracy: 0.2870\n",
      "Epoch 84/100\n",
      "1407/1407 [==============================] - 9s 6ms/step - loss: 1.9001 - accuracy: 0.2971 - val_loss: 1.8741 - val_accuracy: 0.3098\n",
      "Epoch 85/100\n",
      "1407/1407 [==============================] - 9s 7ms/step - loss: 1.9647 - accuracy: 0.2738 - val_loss: 1.8748 - val_accuracy: 0.2974\n",
      "Epoch 86/100\n",
      "1407/1407 [==============================] - 9s 7ms/step - loss: 1.8585 - accuracy: 0.3227 - val_loss: 1.8234 - val_accuracy: 0.3268\n",
      "Epoch 87/100\n",
      "1407/1407 [==============================] - 9s 6ms/step - loss: 1.8092 - accuracy: 0.3371 - val_loss: 1.8018 - val_accuracy: 0.3258\n",
      "Epoch 88/100\n",
      "1407/1407 [==============================] - 9s 7ms/step - loss: 1.8025 - accuracy: 0.3420 - val_loss: 1.7796 - val_accuracy: 0.3464\n",
      "Epoch 89/100\n",
      "1407/1407 [==============================] - 9s 6ms/step - loss: 1.7642 - accuracy: 0.3535 - val_loss: 1.7777 - val_accuracy: 0.3500\n",
      "Epoch 90/100\n",
      "1407/1407 [==============================] - 10s 7ms/step - loss: 1.7345 - accuracy: 0.3674 - val_loss: 1.7890 - val_accuracy: 0.3524\n",
      "Epoch 91/100\n",
      "1407/1407 [==============================] - 9s 6ms/step - loss: 1.7199 - accuracy: 0.3723 - val_loss: 1.7561 - val_accuracy: 0.3502\n",
      "Epoch 92/100\n",
      "1407/1407 [==============================] - 9s 7ms/step - loss: 1.7088 - accuracy: 0.3757 - val_loss: 1.7682 - val_accuracy: 0.3502\n",
      "Epoch 93/100\n",
      "1407/1407 [==============================] - 9s 7ms/step - loss: 1.7319 - accuracy: 0.3666 - val_loss: 2.2336 - val_accuracy: 0.1632\n",
      "Epoch 94/100\n",
      "1407/1407 [==============================] - 9s 6ms/step - loss: 2.0168 - accuracy: 0.2072 - val_loss: 1.9615 - val_accuracy: 0.2314\n",
      "Epoch 95/100\n",
      "1407/1407 [==============================] - 9s 7ms/step - loss: 1.9402 - accuracy: 0.2367 - val_loss: 1.9499 - val_accuracy: 0.2414\n",
      "Epoch 96/100\n",
      "1407/1407 [==============================] - 9s 6ms/step - loss: 1.9214 - accuracy: 0.2488 - val_loss: 1.9394 - val_accuracy: 0.2604\n",
      "Epoch 97/100\n",
      "1407/1407 [==============================] - 9s 7ms/step - loss: 1.9046 - accuracy: 0.2555 - val_loss: 1.9200 - val_accuracy: 0.2624\n",
      "Epoch 98/100\n",
      "1407/1407 [==============================] - 9s 6ms/step - loss: 1.8921 - accuracy: 0.2646 - val_loss: 1.9532 - val_accuracy: 0.2606\n",
      "Epoch 99/100\n",
      "1407/1407 [==============================] - 9s 7ms/step - loss: 1.8973 - accuracy: 0.2619 - val_loss: 1.8926 - val_accuracy: 0.2744\n",
      "Epoch 100/100\n",
      "1407/1407 [==============================] - 9s 7ms/step - loss: 1.8619 - accuracy: 0.2879 - val_loss: 1.8784 - val_accuracy: 0.2946\n"
     ]
    }
   ],
   "source": [
    "history = model.fit(X_train, y_train, epochs=100,validation_data=(X_valid, y_valid))"
   ]
  },
  {
   "cell_type": "code",
   "execution_count": 48,
   "metadata": {},
   "outputs": [
    {
     "name": "stdout",
     "output_type": "stream",
     "text": [
      "157/157 [==============================] - 0s 2ms/step - loss: 1.8784 - accuracy: 0.2946\n"
     ]
    },
    {
     "data": {
      "text/plain": [
       "[1.878420114517212, 0.2946000099182129]"
      ]
     },
     "execution_count": 48,
     "metadata": {},
     "output_type": "execute_result"
    }
   ],
   "source": [
    "model.evaluate(X_valid, y_valid)"
   ]
  },
  {
   "cell_type": "markdown",
   "metadata": {},
   "source": [
    "### Question 2.2 (10 points)\n",
    "\n",
    "Try reduce the overfitting with weight regularization. You can try to add a L2-norm penalty term as the kernel_regularizer. Repeat the previous training process and explain whether regularization helps achieve a better result."
   ]
  },
  {
   "cell_type": "code",
   "execution_count": 49,
   "metadata": {},
   "outputs": [],
   "source": [
    "_20_100_layers = [100]*20\n",
    "\n",
    "model = keras.models.Sequential()\n",
    "model.add(keras.layers.Flatten(input_shape=[32, 32,3]))\n",
    "\n",
    "for n_hidden in _20_100_layers:\n",
    "    model.add(keras.layers.Dense(n_hidden, activation=\"relu\", kernel_initializer=\"he_normal\", kernel_regularizer=keras.regularizers.l2(0.01)))\n",
    "\n",
    "model.add(keras.layers.Dense(10, activation=\"softmax\", kernel_regularizer=keras.regularizers.l2(0.01)))"
   ]
  },
  {
   "cell_type": "code",
   "execution_count": 50,
   "metadata": {},
   "outputs": [],
   "source": [
    "model.compile(loss=\"sparse_categorical_crossentropy\",\n",
    "              optimizer=keras.optimizers.Adam(lr=0.001, beta_1=0.9, beta_2=0.999),\n",
    "              metrics=[\"accuracy\"])"
   ]
  },
  {
   "cell_type": "code",
   "execution_count": 51,
   "metadata": {
    "collapsed": true,
    "jupyter": {
     "outputs_hidden": true
    },
    "tags": []
   },
   "outputs": [
    {
     "name": "stdout",
     "output_type": "stream",
     "text": [
      "Epoch 1/100\n",
      "1407/1407 [==============================] - 12s 8ms/step - loss: 28.2626 - accuracy: 0.2016 - val_loss: 22.0855 - val_accuracy: 0.2774\n",
      "Epoch 2/100\n",
      "1407/1407 [==============================] - 10s 7ms/step - loss: 19.2639 - accuracy: 0.2879 - val_loss: 16.6168 - val_accuracy: 0.3186\n",
      "Epoch 3/100\n",
      "1407/1407 [==============================] - 10s 7ms/step - loss: 14.2528 - accuracy: 0.3186 - val_loss: 12.0326 - val_accuracy: 0.2880\n",
      "Epoch 4/100\n",
      "1407/1407 [==============================] - 10s 7ms/step - loss: 9.9862 - accuracy: 0.3264 - val_loss: 8.0551 - val_accuracy: 0.3564\n",
      "Epoch 5/100\n",
      "1407/1407 [==============================] - 10s 7ms/step - loss: 6.5859 - accuracy: 0.3157 - val_loss: 5.2029 - val_accuracy: 0.3172\n",
      "Epoch 6/100\n",
      "1407/1407 [==============================] - 11s 8ms/step - loss: 4.2456 - accuracy: 0.3040 - val_loss: 3.5612 - val_accuracy: 0.2692\n",
      "Epoch 7/100\n",
      "1407/1407 [==============================] - 10s 7ms/step - loss: 2.9937 - accuracy: 0.2804 - val_loss: 2.7588 - val_accuracy: 0.2078\n",
      "Epoch 8/100\n",
      "1407/1407 [==============================] - 10s 7ms/step - loss: 2.4588 - accuracy: 0.2369 - val_loss: 2.3445 - val_accuracy: 0.2418\n",
      "Epoch 9/100\n",
      "1407/1407 [==============================] - 10s 7ms/step - loss: 2.2931 - accuracy: 0.2360 - val_loss: 2.3433 - val_accuracy: 0.2156\n",
      "Epoch 10/100\n",
      "1407/1407 [==============================] - 10s 7ms/step - loss: 2.2712 - accuracy: 0.2320 - val_loss: 2.2410 - val_accuracy: 0.2440\n",
      "Epoch 11/100\n",
      "1407/1407 [==============================] - 10s 7ms/step - loss: 2.2563 - accuracy: 0.2340 - val_loss: 2.2114 - val_accuracy: 0.2568\n",
      "Epoch 12/100\n",
      "1407/1407 [==============================] - 10s 7ms/step - loss: 2.2440 - accuracy: 0.2391 - val_loss: 2.3322 - val_accuracy: 0.2134\n",
      "Epoch 13/100\n",
      "1407/1407 [==============================] - 10s 7ms/step - loss: 2.2407 - accuracy: 0.2424 - val_loss: 2.2247 - val_accuracy: 0.2446\n",
      "Epoch 14/100\n",
      "1407/1407 [==============================] - 10s 7ms/step - loss: 2.2396 - accuracy: 0.2408 - val_loss: 2.1957 - val_accuracy: 0.2576\n",
      "Epoch 15/100\n",
      "1407/1407 [==============================] - 10s 7ms/step - loss: 2.2404 - accuracy: 0.2420 - val_loss: 2.2081 - val_accuracy: 0.2548\n",
      "Epoch 16/100\n",
      "1407/1407 [==============================] - 10s 7ms/step - loss: 2.2336 - accuracy: 0.2455 - val_loss: 2.2545 - val_accuracy: 0.2510\n",
      "Epoch 17/100\n",
      "1407/1407 [==============================] - 10s 7ms/step - loss: 2.2350 - accuracy: 0.2438 - val_loss: 2.2178 - val_accuracy: 0.2468\n",
      "Epoch 18/100\n",
      "1407/1407 [==============================] - 10s 7ms/step - loss: 2.2346 - accuracy: 0.2439 - val_loss: 2.1985 - val_accuracy: 0.2630\n",
      "Epoch 19/100\n",
      "1407/1407 [==============================] - 10s 7ms/step - loss: 2.2305 - accuracy: 0.2478 - val_loss: 2.3019 - val_accuracy: 0.2232\n",
      "Epoch 20/100\n",
      "1407/1407 [==============================] - 10s 7ms/step - loss: 2.2295 - accuracy: 0.2456 - val_loss: 2.2131 - val_accuracy: 0.2604\n",
      "Epoch 21/100\n",
      "1407/1407 [==============================] - 10s 7ms/step - loss: 2.2300 - accuracy: 0.2449 - val_loss: 2.2719 - val_accuracy: 0.2256\n",
      "Epoch 22/100\n",
      "1407/1407 [==============================] - 10s 7ms/step - loss: 2.2303 - accuracy: 0.2490 - val_loss: 2.1993 - val_accuracy: 0.2644\n",
      "Epoch 23/100\n",
      "1407/1407 [==============================] - 10s 7ms/step - loss: 2.2284 - accuracy: 0.2464 - val_loss: 2.2007 - val_accuracy: 0.2654\n",
      "Epoch 24/100\n",
      "1407/1407 [==============================] - 10s 7ms/step - loss: 2.2282 - accuracy: 0.2468 - val_loss: 2.1965 - val_accuracy: 0.2666\n",
      "Epoch 25/100\n",
      "1407/1407 [==============================] - 11s 8ms/step - loss: 2.2210 - accuracy: 0.2515 - val_loss: 2.1899 - val_accuracy: 0.2674\n",
      "Epoch 26/100\n",
      "1407/1407 [==============================] - 11s 7ms/step - loss: 2.2202 - accuracy: 0.2520 - val_loss: 2.1925 - val_accuracy: 0.2648\n",
      "Epoch 27/100\n",
      "1407/1407 [==============================] - 10s 7ms/step - loss: 2.2247 - accuracy: 0.2476 - val_loss: 2.2154 - val_accuracy: 0.2660\n",
      "Epoch 28/100\n",
      "1407/1407 [==============================] - 10s 7ms/step - loss: 2.2237 - accuracy: 0.2483 - val_loss: 2.2766 - val_accuracy: 0.2336\n",
      "Epoch 29/100\n",
      "1407/1407 [==============================] - 10s 7ms/step - loss: 2.2221 - accuracy: 0.2510 - val_loss: 2.1848 - val_accuracy: 0.2750\n",
      "Epoch 30/100\n",
      "1407/1407 [==============================] - 10s 7ms/step - loss: 2.2204 - accuracy: 0.2543 - val_loss: 2.2121 - val_accuracy: 0.2650\n",
      "Epoch 31/100\n",
      "1407/1407 [==============================] - 10s 7ms/step - loss: 2.2142 - accuracy: 0.2547 - val_loss: 2.2487 - val_accuracy: 0.2440\n",
      "Epoch 32/100\n",
      "1407/1407 [==============================] - 10s 7ms/step - loss: 2.2284 - accuracy: 0.2508 - val_loss: 2.1830 - val_accuracy: 0.2690\n",
      "Epoch 33/100\n",
      "1407/1407 [==============================] - 10s 7ms/step - loss: 2.2242 - accuracy: 0.2504 - val_loss: 2.3365 - val_accuracy: 0.2480\n",
      "Epoch 34/100\n",
      "1407/1407 [==============================] - 10s 7ms/step - loss: 2.2221 - accuracy: 0.2541 - val_loss: 2.1957 - val_accuracy: 0.2686\n",
      "Epoch 35/100\n",
      "1407/1407 [==============================] - 10s 7ms/step - loss: 2.2226 - accuracy: 0.2528 - val_loss: 2.2382 - val_accuracy: 0.2418\n",
      "Epoch 36/100\n",
      "1407/1407 [==============================] - 10s 7ms/step - loss: 2.2179 - accuracy: 0.2517 - val_loss: 2.2002 - val_accuracy: 0.2718\n",
      "Epoch 37/100\n",
      "1407/1407 [==============================] - 10s 7ms/step - loss: 2.2258 - accuracy: 0.2489 - val_loss: 2.2279 - val_accuracy: 0.2496\n",
      "Epoch 38/100\n",
      "1407/1407 [==============================] - 10s 7ms/step - loss: 2.2208 - accuracy: 0.2527 - val_loss: 2.2037 - val_accuracy: 0.2608\n",
      "Epoch 39/100\n",
      "1407/1407 [==============================] - 10s 7ms/step - loss: 2.2177 - accuracy: 0.2550 - val_loss: 2.2007 - val_accuracy: 0.2552\n",
      "Epoch 40/100\n",
      "1407/1407 [==============================] - 10s 7ms/step - loss: 2.2178 - accuracy: 0.2520 - val_loss: 2.2548 - val_accuracy: 0.2466\n",
      "Epoch 41/100\n",
      "1407/1407 [==============================] - 10s 7ms/step - loss: 2.2207 - accuracy: 0.2501 - val_loss: 2.2193 - val_accuracy: 0.2556\n",
      "Epoch 42/100\n",
      "1407/1407 [==============================] - 10s 7ms/step - loss: 2.2199 - accuracy: 0.2521 - val_loss: 2.3368 - val_accuracy: 0.2412\n",
      "Epoch 43/100\n",
      "1407/1407 [==============================] - 10s 7ms/step - loss: 2.2188 - accuracy: 0.2515 - val_loss: 2.2285 - val_accuracy: 0.2634\n",
      "Epoch 44/100\n",
      "1407/1407 [==============================] - 10s 7ms/step - loss: 2.2257 - accuracy: 0.2505 - val_loss: 2.2025 - val_accuracy: 0.2652\n",
      "Epoch 45/100\n",
      "1407/1407 [==============================] - 10s 7ms/step - loss: 2.2193 - accuracy: 0.2532 - val_loss: 2.1875 - val_accuracy: 0.2682\n",
      "Epoch 46/100\n",
      "1407/1407 [==============================] - 10s 7ms/step - loss: 2.2199 - accuracy: 0.2551 - val_loss: 2.2039 - val_accuracy: 0.2630\n",
      "Epoch 47/100\n",
      "1407/1407 [==============================] - 10s 7ms/step - loss: 2.2216 - accuracy: 0.2523 - val_loss: 2.2218 - val_accuracy: 0.2592\n",
      "Epoch 48/100\n",
      "1407/1407 [==============================] - 10s 7ms/step - loss: 2.2231 - accuracy: 0.2491 - val_loss: 2.2331 - val_accuracy: 0.2344\n",
      "Epoch 49/100\n",
      "1407/1407 [==============================] - 10s 7ms/step - loss: 2.2178 - accuracy: 0.2526 - val_loss: 2.2168 - val_accuracy: 0.2476\n",
      "Epoch 50/100\n",
      "1407/1407 [==============================] - 10s 7ms/step - loss: 2.2194 - accuracy: 0.2542 - val_loss: 2.2092 - val_accuracy: 0.2640\n",
      "Epoch 51/100\n",
      "1407/1407 [==============================] - 10s 7ms/step - loss: 2.2254 - accuracy: 0.2515 - val_loss: 2.2011 - val_accuracy: 0.2604\n",
      "Epoch 52/100\n",
      "1407/1407 [==============================] - 10s 7ms/step - loss: 2.2168 - accuracy: 0.2509 - val_loss: 2.2169 - val_accuracy: 0.2570\n",
      "Epoch 53/100\n",
      "1407/1407 [==============================] - 10s 7ms/step - loss: 2.2214 - accuracy: 0.2521 - val_loss: 2.1828 - val_accuracy: 0.2758\n",
      "Epoch 54/100\n",
      "1407/1407 [==============================] - 10s 7ms/step - loss: 2.2154 - accuracy: 0.2563 - val_loss: 2.1927 - val_accuracy: 0.2712\n",
      "Epoch 55/100\n",
      "1407/1407 [==============================] - 10s 7ms/step - loss: 2.2211 - accuracy: 0.2550 - val_loss: 2.2164 - val_accuracy: 0.2616\n",
      "Epoch 56/100\n",
      "1407/1407 [==============================] - 10s 7ms/step - loss: 2.2158 - accuracy: 0.2556 - val_loss: 2.2521 - val_accuracy: 0.2580\n",
      "Epoch 57/100\n",
      "1407/1407 [==============================] - 10s 7ms/step - loss: 2.2169 - accuracy: 0.2540 - val_loss: 2.2120 - val_accuracy: 0.2572\n",
      "Epoch 58/100\n",
      "1407/1407 [==============================] - 10s 7ms/step - loss: 2.2195 - accuracy: 0.2533 - val_loss: 2.2025 - val_accuracy: 0.2614\n",
      "Epoch 59/100\n",
      "1407/1407 [==============================] - 10s 7ms/step - loss: 2.2169 - accuracy: 0.2553 - val_loss: 2.2675 - val_accuracy: 0.2306\n",
      "Epoch 60/100\n",
      "1407/1407 [==============================] - 10s 7ms/step - loss: 2.2212 - accuracy: 0.2511 - val_loss: 2.1941 - val_accuracy: 0.2670\n",
      "Epoch 61/100\n",
      "1407/1407 [==============================] - 10s 7ms/step - loss: 2.2185 - accuracy: 0.2530 - val_loss: 2.2039 - val_accuracy: 0.2624\n",
      "Epoch 62/100\n",
      "1407/1407 [==============================] - 10s 7ms/step - loss: 2.2193 - accuracy: 0.2551 - val_loss: 2.2163 - val_accuracy: 0.2588\n",
      "Epoch 63/100\n",
      "1407/1407 [==============================] - 10s 7ms/step - loss: 2.2141 - accuracy: 0.2572 - val_loss: 2.1896 - val_accuracy: 0.2716\n",
      "Epoch 64/100\n",
      "1407/1407 [==============================] - 10s 7ms/step - loss: 2.2195 - accuracy: 0.2532 - val_loss: 2.1950 - val_accuracy: 0.2650\n",
      "Epoch 65/100\n",
      "1407/1407 [==============================] - 10s 7ms/step - loss: 2.2107 - accuracy: 0.2575 - val_loss: 2.2115 - val_accuracy: 0.2698\n",
      "Epoch 66/100\n",
      "1407/1407 [==============================] - 10s 7ms/step - loss: 2.2138 - accuracy: 0.2566 - val_loss: 2.2045 - val_accuracy: 0.2766\n",
      "Epoch 67/100\n",
      "1407/1407 [==============================] - 10s 7ms/step - loss: 2.2180 - accuracy: 0.2551 - val_loss: 2.2129 - val_accuracy: 0.2582\n",
      "Epoch 68/100\n",
      "1407/1407 [==============================] - 10s 7ms/step - loss: 2.2193 - accuracy: 0.2521 - val_loss: 2.2328 - val_accuracy: 0.2434\n",
      "Epoch 69/100\n",
      "1407/1407 [==============================] - 10s 7ms/step - loss: 2.2212 - accuracy: 0.2539 - val_loss: 2.3010 - val_accuracy: 0.2256\n",
      "Epoch 70/100\n",
      "1407/1407 [==============================] - 11s 8ms/step - loss: 2.2236 - accuracy: 0.2537 - val_loss: 2.2446 - val_accuracy: 0.2326\n",
      "Epoch 71/100\n",
      "1407/1407 [==============================] - 10s 7ms/step - loss: 2.2149 - accuracy: 0.2570 - val_loss: 2.2191 - val_accuracy: 0.2534\n",
      "Epoch 72/100\n",
      "1407/1407 [==============================] - 10s 7ms/step - loss: 2.2160 - accuracy: 0.2538 - val_loss: 2.2161 - val_accuracy: 0.2558\n",
      "Epoch 73/100\n",
      "1407/1407 [==============================] - 10s 7ms/step - loss: 2.2168 - accuracy: 0.2545 - val_loss: 2.2536 - val_accuracy: 0.2446\n",
      "Epoch 74/100\n",
      "1407/1407 [==============================] - 10s 7ms/step - loss: 2.2157 - accuracy: 0.2537 - val_loss: 2.2881 - val_accuracy: 0.2364\n",
      "Epoch 75/100\n",
      "1407/1407 [==============================] - 10s 7ms/step - loss: 2.2193 - accuracy: 0.2549 - val_loss: 2.1963 - val_accuracy: 0.2688\n",
      "Epoch 76/100\n",
      "1407/1407 [==============================] - 10s 7ms/step - loss: 2.2165 - accuracy: 0.2548 - val_loss: 2.1914 - val_accuracy: 0.2658\n",
      "Epoch 77/100\n",
      "1407/1407 [==============================] - 10s 7ms/step - loss: 2.2213 - accuracy: 0.2519 - val_loss: 2.1976 - val_accuracy: 0.2620\n",
      "Epoch 78/100\n",
      "1407/1407 [==============================] - 10s 7ms/step - loss: 2.2164 - accuracy: 0.2548 - val_loss: 2.1873 - val_accuracy: 0.2700\n",
      "Epoch 79/100\n",
      "1407/1407 [==============================] - 10s 7ms/step - loss: 2.2199 - accuracy: 0.2536 - val_loss: 2.2154 - val_accuracy: 0.2532\n",
      "Epoch 80/100\n",
      "1407/1407 [==============================] - 10s 7ms/step - loss: 2.2162 - accuracy: 0.2559 - val_loss: 2.2024 - val_accuracy: 0.2630\n",
      "Epoch 81/100\n",
      "1407/1407 [==============================] - 10s 7ms/step - loss: 2.2168 - accuracy: 0.2564 - val_loss: 2.1879 - val_accuracy: 0.2752\n",
      "Epoch 82/100\n",
      "1407/1407 [==============================] - 10s 7ms/step - loss: 2.2178 - accuracy: 0.2516 - val_loss: 2.2245 - val_accuracy: 0.2584\n",
      "Epoch 83/100\n",
      "1407/1407 [==============================] - 10s 7ms/step - loss: 2.2167 - accuracy: 0.2547 - val_loss: 2.1946 - val_accuracy: 0.2574\n",
      "Epoch 84/100\n",
      "1407/1407 [==============================] - 10s 7ms/step - loss: 2.2163 - accuracy: 0.2533 - val_loss: 2.2213 - val_accuracy: 0.2724\n",
      "Epoch 85/100\n",
      "1407/1407 [==============================] - 10s 7ms/step - loss: 2.2149 - accuracy: 0.2542 - val_loss: 2.1855 - val_accuracy: 0.2608\n",
      "Epoch 86/100\n",
      "1407/1407 [==============================] - 10s 7ms/step - loss: 2.2200 - accuracy: 0.2554 - val_loss: 2.1806 - val_accuracy: 0.2774\n",
      "Epoch 87/100\n",
      "1407/1407 [==============================] - 10s 7ms/step - loss: 2.2132 - accuracy: 0.2537 - val_loss: 2.2403 - val_accuracy: 0.2620\n",
      "Epoch 88/100\n",
      "1407/1407 [==============================] - 10s 7ms/step - loss: 2.2131 - accuracy: 0.2578 - val_loss: 2.1947 - val_accuracy: 0.2654\n",
      "Epoch 89/100\n",
      "1407/1407 [==============================] - 11s 8ms/step - loss: 2.2139 - accuracy: 0.2554 - val_loss: 2.1854 - val_accuracy: 0.2664\n",
      "Epoch 90/100\n",
      "1407/1407 [==============================] - 10s 7ms/step - loss: 2.2186 - accuracy: 0.2531 - val_loss: 2.1918 - val_accuracy: 0.2720\n",
      "Epoch 91/100\n",
      "1407/1407 [==============================] - 10s 7ms/step - loss: 2.2184 - accuracy: 0.2542 - val_loss: 2.1946 - val_accuracy: 0.2728\n",
      "Epoch 92/100\n",
      "1407/1407 [==============================] - 10s 7ms/step - loss: 2.2178 - accuracy: 0.2548 - val_loss: 2.1939 - val_accuracy: 0.2714\n",
      "Epoch 93/100\n",
      "1407/1407 [==============================] - 10s 7ms/step - loss: 2.2159 - accuracy: 0.2543 - val_loss: 2.2205 - val_accuracy: 0.2632\n",
      "Epoch 94/100\n",
      "1407/1407 [==============================] - 11s 7ms/step - loss: 2.2154 - accuracy: 0.2575 - val_loss: 2.1820 - val_accuracy: 0.2704\n",
      "Epoch 95/100\n",
      "1407/1407 [==============================] - 11s 7ms/step - loss: 2.2155 - accuracy: 0.2558 - val_loss: 2.2019 - val_accuracy: 0.2690\n",
      "Epoch 96/100\n",
      "1407/1407 [==============================] - 10s 7ms/step - loss: 2.2154 - accuracy: 0.2566 - val_loss: 2.1722 - val_accuracy: 0.2712\n",
      "Epoch 97/100\n",
      "1407/1407 [==============================] - 10s 7ms/step - loss: 2.2149 - accuracy: 0.2555 - val_loss: 2.2452 - val_accuracy: 0.2464\n",
      "Epoch 98/100\n",
      "1407/1407 [==============================] - 10s 7ms/step - loss: 2.2105 - accuracy: 0.2559 - val_loss: 2.2047 - val_accuracy: 0.2634\n",
      "Epoch 99/100\n",
      "1407/1407 [==============================] - 10s 7ms/step - loss: 2.2076 - accuracy: 0.2558 - val_loss: 2.1926 - val_accuracy: 0.2546\n",
      "Epoch 100/100\n",
      "1407/1407 [==============================] - 11s 7ms/step - loss: 2.2183 - accuracy: 0.2570 - val_loss: 2.2308 - val_accuracy: 0.2666\n"
     ]
    }
   ],
   "source": [
    "history = model.fit(X_train, y_train, epochs=100,\n",
    "                    validation_data=(X_valid, y_valid))"
   ]
  },
  {
   "cell_type": "code",
   "execution_count": 52,
   "metadata": {},
   "outputs": [
    {
     "data": {
      "image/png": "[encoded data removed]",
      "text/plain": [
       "<Figure size 720x504 with 1 Axes>"
      ]
     },
     "metadata": {
      "needs_background": "light"
     },
     "output_type": "display_data"
    }
   ],
   "source": [
    "pd.DataFrame(history.history).plot(figsize=(10, 7))\n",
    "plt.grid(True)\n",
    "\n",
    "plt.show()"
   ]
  },
  {
   "cell_type": "code",
   "execution_count": 53,
   "metadata": {},
   "outputs": [
    {
     "name": "stdout",
     "output_type": "stream",
     "text": [
      "1407/1407 [==============================] - 4s 3ms/step - loss: 2.2280 - accuracy: 0.2572\n"
     ]
    },
    {
     "data": {
      "text/plain": [
       "[2.2280304431915283, 0.25717777013778687]"
      ]
     },
     "execution_count": 53,
     "metadata": {},
     "output_type": "execute_result"
    }
   ],
   "source": [
    "model.evaluate(X_train, y_train)"
   ]
  },
  {
   "cell_type": "code",
   "execution_count": 54,
   "metadata": {},
   "outputs": [
    {
     "name": "stdout",
     "output_type": "stream",
     "text": [
      "157/157 [==============================] - 0s 3ms/step - loss: 2.2308 - accuracy: 0.2666\n"
     ]
    },
    {
     "data": {
      "text/plain": [
       "[2.23083758354187, 0.26660001277923584]"
      ]
     },
     "execution_count": 54,
     "metadata": {},
     "output_type": "execute_result"
    }
   ],
   "source": [
    "model.evaluate(X_valid, y_valid)"
   ]
  },
  {
   "cell_type": "markdown",
   "metadata": {},
   "source": [
    "The regularization reduces the overfitting, as a result, the evaluation of the model reveals lower accuracy making it seem the model is worse but it is actually better."
   ]
  },
  {
   "cell_type": "markdown",
   "metadata": {},
   "source": [
    "### Question 2.3 (10 points)\n",
    "\n",
    "Now try adding Batch Normalization and compare the learning curves: Is it converging faster than before? Does it produce a better model? How does it affect training speed?"
   ]
  },
  {
   "cell_type": "code",
   "execution_count": 55,
   "metadata": {},
   "outputs": [],
   "source": [
    "_20_100_layers = [100]*20\n",
    "\n",
    "model = keras.models.Sequential()\n",
    "model.add(keras.layers.Flatten(input_shape=[32, 32,3]))\n",
    "\n",
    "for n_hidden in _20_100_layers:\n",
    "    model.add(keras.layers.BatchNormalization())\n",
    "    model.add(keras.layers.Dense(n_hidden, activation=\"relu\", kernel_initializer=\"he_normal\", kernel_regularizer=keras.regularizers.l2(0.01)))\n",
    "\n",
    "model.add(keras.layers.Dense(10, activation=\"softmax\", kernel_regularizer=keras.regularizers.l2(0.01)))"
   ]
  },
  {
   "cell_type": "code",
   "execution_count": 56,
   "metadata": {},
   "outputs": [
    {
     "name": "stderr",
     "output_type": "stream",
     "text": [
      "C:\\Users\\anton\\anaconda3\\lib\\site-packages\\keras\\optimizer_v2\\adam.py:105: UserWarning: The `lr` argument is deprecated, use `learning_rate` instead.\n",
      "  super(Adam, self).__init__(name, **kwargs)\n"
     ]
    }
   ],
   "source": [
    "model.compile(loss=\"sparse_categorical_crossentropy\",\n",
    "              optimizer=keras.optimizers.Adam(lr=0.001, beta_1=0.9, beta_2=0.999),\n",
    "              metrics=[\"accuracy\"])"
   ]
  },
  {
   "cell_type": "code",
   "execution_count": 57,
   "metadata": {
    "collapsed": true,
    "jupyter": {
     "outputs_hidden": true
    },
    "tags": []
   },
   "outputs": [
    {
     "name": "stdout",
     "output_type": "stream",
     "text": [
      "Epoch 1/100\n",
      "1407/1407 [==============================] - 25s 14ms/step - loss: 27.0962 - accuracy: 0.1876 - val_loss: 15.5927 - val_accuracy: 0.2478\n",
      "Epoch 2/100\n",
      "1407/1407 [==============================] - 19s 13ms/step - loss: 10.0037 - accuracy: 0.2514 - val_loss: 6.0713 - val_accuracy: 0.2364\n",
      "Epoch 3/100\n",
      "1407/1407 [==============================] - 19s 13ms/step - loss: 4.1405 - accuracy: 0.2422 - val_loss: 3.1002 - val_accuracy: 0.1520\n",
      "Epoch 4/100\n",
      "1407/1407 [==============================] - 19s 13ms/step - loss: 2.6892 - accuracy: 0.1813 - val_loss: 2.5460 - val_accuracy: 0.1334\n",
      "Epoch 5/100\n",
      "1407/1407 [==============================] - 19s 13ms/step - loss: 2.4831 - accuracy: 0.1600 - val_loss: 2.5737 - val_accuracy: 0.0972\n",
      "Epoch 6/100\n",
      "1407/1407 [==============================] - 19s 13ms/step - loss: 2.3529 - accuracy: 0.1792 - val_loss: 2.5049 - val_accuracy: 0.0972\n",
      "Epoch 7/100\n",
      "1407/1407 [==============================] - 19s 13ms/step - loss: 2.4183 - accuracy: 0.1709 - val_loss: 2.6089 - val_accuracy: 0.0976\n",
      "Epoch 8/100\n",
      "1407/1407 [==============================] - 19s 13ms/step - loss: 2.3149 - accuracy: 0.1772 - val_loss: 2.8094 - val_accuracy: 0.0948\n",
      "Epoch 9/100\n",
      "1407/1407 [==============================] - 19s 13ms/step - loss: 2.5115 - accuracy: 0.1624 - val_loss: 2.5194 - val_accuracy: 0.0996\n",
      "Epoch 10/100\n",
      "1407/1407 [==============================] - 19s 13ms/step - loss: 2.2951 - accuracy: 0.1824 - val_loss: 2.2468 - val_accuracy: 0.2082\n",
      "Epoch 11/100\n",
      "1407/1407 [==============================] - 19s 13ms/step - loss: 2.3801 - accuracy: 0.1785 - val_loss: 2.4259 - val_accuracy: 0.1698\n",
      "Epoch 12/100\n",
      "1407/1407 [==============================] - 19s 13ms/step - loss: 2.2746 - accuracy: 0.1902 - val_loss: 2.8115 - val_accuracy: 0.1266\n",
      "Epoch 13/100\n",
      "1407/1407 [==============================] - 19s 13ms/step - loss: 2.3459 - accuracy: 0.1887 - val_loss: 2.4277 - val_accuracy: 0.1578\n",
      "Epoch 14/100\n",
      "1407/1407 [==============================] - 20s 14ms/step - loss: 2.3040 - accuracy: 0.1987 - val_loss: 2.3913 - val_accuracy: 0.1412\n",
      "Epoch 15/100\n",
      "1407/1407 [==============================] - 20s 14ms/step - loss: 2.2854 - accuracy: 0.1985 - val_loss: 4.4535 - val_accuracy: 0.1028\n",
      "Epoch 16/100\n",
      "1407/1407 [==============================] - 19s 14ms/step - loss: 2.5690 - accuracy: 0.1783 - val_loss: 4.2212 - val_accuracy: 0.1724\n",
      "Epoch 17/100\n",
      "1407/1407 [==============================] - 19s 13ms/step - loss: 2.2405 - accuracy: 0.2081 - val_loss: 2.2084 - val_accuracy: 0.2104\n",
      "Epoch 18/100\n",
      "1407/1407 [==============================] - 19s 13ms/step - loss: 2.2144 - accuracy: 0.2148 - val_loss: 2.4434 - val_accuracy: 0.1018\n",
      "Epoch 19/100\n",
      "1407/1407 [==============================] - 19s 13ms/step - loss: 2.1539 - accuracy: 0.2180 - val_loss: 2.5309 - val_accuracy: 0.1176\n",
      "Epoch 20/100\n",
      "1407/1407 [==============================] - 19s 13ms/step - loss: 2.1683 - accuracy: 0.2171 - val_loss: 2.3745 - val_accuracy: 0.1718\n",
      "Epoch 21/100\n",
      "1407/1407 [==============================] - 19s 13ms/step - loss: 2.1536 - accuracy: 0.2159 - val_loss: 2.5736 - val_accuracy: 0.0976\n",
      "Epoch 22/100\n",
      "1407/1407 [==============================] - 19s 14ms/step - loss: 2.1875 - accuracy: 0.2190 - val_loss: 2.5875 - val_accuracy: 0.0972\n",
      "Epoch 23/100\n",
      "1407/1407 [==============================] - 19s 14ms/step - loss: 2.1132 - accuracy: 0.2252 - val_loss: 2.4061 - val_accuracy: 0.1000\n",
      "Epoch 24/100\n",
      "1407/1407 [==============================] - 19s 14ms/step - loss: 2.0941 - accuracy: 0.2216 - val_loss: 2.4461 - val_accuracy: 0.1536\n",
      "Epoch 25/100\n",
      "1407/1407 [==============================] - 19s 13ms/step - loss: 2.0971 - accuracy: 0.2275 - val_loss: 325.1870 - val_accuracy: 0.1344\n",
      "Epoch 26/100\n",
      "1407/1407 [==============================] - 19s 13ms/step - loss: 2.0780 - accuracy: 0.2310 - val_loss: 2.3457 - val_accuracy: 0.1096\n",
      "Epoch 27/100\n",
      "1407/1407 [==============================] - 19s 13ms/step - loss: 2.2474 - accuracy: 0.2107 - val_loss: 2.4374 - val_accuracy: 0.1116\n",
      "Epoch 28/100\n",
      "1407/1407 [==============================] - 19s 14ms/step - loss: 2.0859 - accuracy: 0.2270 - val_loss: 2.4191 - val_accuracy: 0.1962\n",
      "Epoch 29/100\n",
      "1407/1407 [==============================] - 19s 13ms/step - loss: 2.0664 - accuracy: 0.2349 - val_loss: 2.2645 - val_accuracy: 0.1948\n",
      "Epoch 30/100\n",
      "1407/1407 [==============================] - 19s 13ms/step - loss: 2.0704 - accuracy: 0.2383 - val_loss: 2.5019 - val_accuracy: 0.1304\n",
      "Epoch 31/100\n",
      "1407/1407 [==============================] - 19s 13ms/step - loss: 2.0800 - accuracy: 0.2394 - val_loss: 2.4308 - val_accuracy: 0.0972\n",
      "Epoch 32/100\n",
      "1407/1407 [==============================] - 19s 13ms/step - loss: 2.0520 - accuracy: 0.2417 - val_loss: 2.7089 - val_accuracy: 0.1076\n",
      "Epoch 33/100\n",
      "1407/1407 [==============================] - 19s 14ms/step - loss: 2.0489 - accuracy: 0.2466 - val_loss: 11.1787 - val_accuracy: 0.1340\n",
      "Epoch 34/100\n",
      "1407/1407 [==============================] - 19s 13ms/step - loss: 2.0773 - accuracy: 0.2426 - val_loss: 2.2239 - val_accuracy: 0.1790\n",
      "Epoch 35/100\n",
      "1407/1407 [==============================] - 19s 14ms/step - loss: 2.0513 - accuracy: 0.2463 - val_loss: 2.3901 - val_accuracy: 0.0972\n",
      "Epoch 36/100\n",
      "1407/1407 [==============================] - 19s 14ms/step - loss: 2.0673 - accuracy: 0.2421 - val_loss: 2.0955 - val_accuracy: 0.2100\n",
      "Epoch 37/100\n",
      "1407/1407 [==============================] - 19s 14ms/step - loss: 2.0491 - accuracy: 0.2475 - val_loss: 2.6694 - val_accuracy: 0.1292\n",
      "Epoch 38/100\n",
      "1407/1407 [==============================] - 19s 14ms/step - loss: 2.0645 - accuracy: 0.2435 - val_loss: 4.3236 - val_accuracy: 0.1016\n",
      "Epoch 39/100\n",
      "1407/1407 [==============================] - 19s 13ms/step - loss: 2.0462 - accuracy: 0.2453 - val_loss: 9.3306 - val_accuracy: 0.1010\n",
      "Epoch 40/100\n",
      "1407/1407 [==============================] - 19s 13ms/step - loss: 2.0536 - accuracy: 0.2503 - val_loss: 2.7309 - val_accuracy: 0.0920\n",
      "Epoch 41/100\n",
      "1407/1407 [==============================] - 19s 14ms/step - loss: 2.0423 - accuracy: 0.2534 - val_loss: 2.3302 - val_accuracy: 0.0978\n",
      "Epoch 42/100\n",
      "1407/1407 [==============================] - 19s 14ms/step - loss: 2.0792 - accuracy: 0.2468 - val_loss: 2.2963 - val_accuracy: 0.1638\n",
      "Epoch 43/100\n",
      "1407/1407 [==============================] - 19s 14ms/step - loss: 2.0743 - accuracy: 0.2480 - val_loss: 2.2972 - val_accuracy: 0.1378\n",
      "Epoch 44/100\n",
      "1407/1407 [==============================] - 19s 14ms/step - loss: 2.0456 - accuracy: 0.2488 - val_loss: 2.3113 - val_accuracy: 0.1246\n",
      "Epoch 45/100\n",
      "1407/1407 [==============================] - 19s 14ms/step - loss: 2.0373 - accuracy: 0.2509 - val_loss: 2.7960 - val_accuracy: 0.2050\n",
      "Epoch 46/100\n",
      "1407/1407 [==============================] - 19s 14ms/step - loss: 2.0460 - accuracy: 0.2494 - val_loss: 2.5698 - val_accuracy: 0.0976\n",
      "Epoch 47/100\n",
      "1407/1407 [==============================] - 19s 14ms/step - loss: 2.0292 - accuracy: 0.2566 - val_loss: 2.5130 - val_accuracy: 0.1066\n",
      "Epoch 48/100\n",
      "1407/1407 [==============================] - 19s 14ms/step - loss: 2.0348 - accuracy: 0.2552 - val_loss: 2.4056 - val_accuracy: 0.0972\n",
      "Epoch 49/100\n",
      "1407/1407 [==============================] - 19s 14ms/step - loss: 2.0633 - accuracy: 0.2532 - val_loss: 2.4869 - val_accuracy: 0.0980\n",
      "Epoch 50/100\n",
      "1407/1407 [==============================] - 19s 14ms/step - loss: 2.0255 - accuracy: 0.2611 - val_loss: 2.2389 - val_accuracy: 0.1680\n",
      "Epoch 51/100\n",
      "1407/1407 [==============================] - 19s 14ms/step - loss: 2.0322 - accuracy: 0.2578 - val_loss: 17.4751 - val_accuracy: 0.1830\n",
      "Epoch 52/100\n",
      "1407/1407 [==============================] - 19s 13ms/step - loss: 2.0322 - accuracy: 0.2615 - val_loss: 2.4423 - val_accuracy: 0.1174\n",
      "Epoch 53/100\n",
      "1407/1407 [==============================] - 19s 14ms/step - loss: 2.0127 - accuracy: 0.2601 - val_loss: 2.2614 - val_accuracy: 0.1606\n",
      "Epoch 54/100\n",
      "1407/1407 [==============================] - 19s 14ms/step - loss: 2.0196 - accuracy: 0.2584 - val_loss: 3.3290 - val_accuracy: 0.2054\n",
      "Epoch 55/100\n",
      "1407/1407 [==============================] - 19s 14ms/step - loss: 2.0336 - accuracy: 0.2581 - val_loss: 2.4493 - val_accuracy: 0.0972\n",
      "Epoch 56/100\n",
      "1407/1407 [==============================] - 19s 14ms/step - loss: 2.0311 - accuracy: 0.2576 - val_loss: 2.2989 - val_accuracy: 0.1078\n",
      "Epoch 57/100\n",
      "1407/1407 [==============================] - 19s 14ms/step - loss: 2.0219 - accuracy: 0.2608 - val_loss: 2.2157 - val_accuracy: 0.1650\n",
      "Epoch 58/100\n",
      "1407/1407 [==============================] - 20s 14ms/step - loss: 2.0425 - accuracy: 0.2461 - val_loss: 2.3903 - val_accuracy: 0.0972\n",
      "Epoch 59/100\n",
      "1407/1407 [==============================] - 21s 15ms/step - loss: 2.0154 - accuracy: 0.2595 - val_loss: 2.6700 - val_accuracy: 0.1584\n",
      "Epoch 60/100\n",
      "1407/1407 [==============================] - 21s 15ms/step - loss: 2.0274 - accuracy: 0.2596 - val_loss: 6.8733 - val_accuracy: 0.1718\n",
      "Epoch 61/100\n",
      "1407/1407 [==============================] - 19s 14ms/step - loss: 2.0168 - accuracy: 0.2580 - val_loss: 2.2412 - val_accuracy: 0.1618\n",
      "Epoch 62/100\n",
      "1407/1407 [==============================] - 20s 14ms/step - loss: 2.0320 - accuracy: 0.2548 - val_loss: 2.3321 - val_accuracy: 0.1522\n",
      "Epoch 63/100\n",
      "1407/1407 [==============================] - 19s 14ms/step - loss: 2.0276 - accuracy: 0.2604 - val_loss: 2.2824 - val_accuracy: 0.1452\n",
      "Epoch 64/100\n",
      "1407/1407 [==============================] - 19s 13ms/step - loss: 2.0188 - accuracy: 0.2635 - val_loss: 2.3291 - val_accuracy: 0.1310\n",
      "Epoch 65/100\n",
      "1407/1407 [==============================] - 19s 14ms/step - loss: 2.0026 - accuracy: 0.2641 - val_loss: 2.2475 - val_accuracy: 0.1556\n",
      "Epoch 66/100\n",
      "1407/1407 [==============================] - 19s 14ms/step - loss: 2.0195 - accuracy: 0.2618 - val_loss: 2.2716 - val_accuracy: 0.1534\n",
      "Epoch 67/100\n",
      "1407/1407 [==============================] - 19s 14ms/step - loss: 2.0126 - accuracy: 0.2646 - val_loss: 3.1682 - val_accuracy: 0.1850\n",
      "Epoch 68/100\n",
      "1407/1407 [==============================] - 19s 14ms/step - loss: 2.0026 - accuracy: 0.2627 - val_loss: 2.2966 - val_accuracy: 0.1342\n",
      "Epoch 69/100\n",
      "1407/1407 [==============================] - 19s 14ms/step - loss: 2.0100 - accuracy: 0.2650 - val_loss: 2.3021 - val_accuracy: 0.1164\n",
      "Epoch 70/100\n",
      "1407/1407 [==============================] - 19s 14ms/step - loss: 2.0178 - accuracy: 0.2625 - val_loss: 2.3228 - val_accuracy: 0.1126\n",
      "Epoch 71/100\n",
      "1407/1407 [==============================] - 19s 14ms/step - loss: 2.0012 - accuracy: 0.2634 - val_loss: 2.3421 - val_accuracy: 0.1156\n",
      "Epoch 72/100\n",
      "1407/1407 [==============================] - 19s 14ms/step - loss: 2.0068 - accuracy: 0.2630 - val_loss: 2.8992 - val_accuracy: 0.2030\n",
      "Epoch 73/100\n",
      "1407/1407 [==============================] - 19s 14ms/step - loss: 2.0005 - accuracy: 0.2669 - val_loss: 2.3386 - val_accuracy: 0.1108\n",
      "Epoch 74/100\n",
      "1407/1407 [==============================] - 19s 14ms/step - loss: 2.0129 - accuracy: 0.2628 - val_loss: 2.3155 - val_accuracy: 0.1428\n",
      "Epoch 75/100\n",
      "1407/1407 [==============================] - 19s 14ms/step - loss: 2.0206 - accuracy: 0.2624 - val_loss: 2.2025 - val_accuracy: 0.1886\n",
      "Epoch 76/100\n",
      "1407/1407 [==============================] - 19s 14ms/step - loss: 2.0069 - accuracy: 0.2670 - val_loss: 2.1528 - val_accuracy: 0.1698\n",
      "Epoch 77/100\n",
      "1407/1407 [==============================] - 19s 14ms/step - loss: 2.0036 - accuracy: 0.2706 - val_loss: 2.1880 - val_accuracy: 0.1818\n",
      "Epoch 78/100\n",
      "1407/1407 [==============================] - 19s 14ms/step - loss: 2.0059 - accuracy: 0.2757 - val_loss: 2.1774 - val_accuracy: 0.2282\n",
      "Epoch 79/100\n",
      "1407/1407 [==============================] - 19s 14ms/step - loss: 2.0012 - accuracy: 0.2730 - val_loss: 2.2105 - val_accuracy: 0.1686\n",
      "Epoch 80/100\n",
      "1407/1407 [==============================] - 19s 14ms/step - loss: 2.0324 - accuracy: 0.2508 - val_loss: 2.2912 - val_accuracy: 0.1618\n",
      "Epoch 81/100\n",
      "1407/1407 [==============================] - 19s 14ms/step - loss: 2.0086 - accuracy: 0.2591 - val_loss: 3.8712 - val_accuracy: 0.1860\n",
      "Epoch 82/100\n",
      "1407/1407 [==============================] - 19s 14ms/step - loss: 2.0256 - accuracy: 0.2574 - val_loss: 2.2406 - val_accuracy: 0.1618\n",
      "Epoch 83/100\n",
      "1407/1407 [==============================] - 19s 14ms/step - loss: 2.0076 - accuracy: 0.2622 - val_loss: 2.2809 - val_accuracy: 0.1502\n",
      "Epoch 84/100\n",
      "1407/1407 [==============================] - 19s 14ms/step - loss: 2.0012 - accuracy: 0.2603 - val_loss: 2.2859 - val_accuracy: 0.1556\n",
      "Epoch 85/100\n",
      "1407/1407 [==============================] - 19s 14ms/step - loss: 1.9946 - accuracy: 0.2624 - val_loss: 2.2021 - val_accuracy: 0.1546\n",
      "Epoch 86/100\n",
      "1407/1407 [==============================] - 20s 14ms/step - loss: 2.0101 - accuracy: 0.2630 - val_loss: 2.3118 - val_accuracy: 0.1502\n",
      "Epoch 87/100\n",
      "1407/1407 [==============================] - 19s 14ms/step - loss: 1.9971 - accuracy: 0.2629 - val_loss: 2.1438 - val_accuracy: 0.2086\n",
      "Epoch 88/100\n",
      "1407/1407 [==============================] - 19s 14ms/step - loss: 1.9924 - accuracy: 0.2643 - val_loss: 2.4994 - val_accuracy: 0.0958\n",
      "Epoch 89/100\n",
      "1407/1407 [==============================] - 19s 14ms/step - loss: 2.0057 - accuracy: 0.2636 - val_loss: 2.3476 - val_accuracy: 0.1438\n",
      "Epoch 90/100\n",
      "1407/1407 [==============================] - 19s 14ms/step - loss: 2.0062 - accuracy: 0.2591 - val_loss: 2.2818 - val_accuracy: 0.1506\n",
      "Epoch 91/100\n",
      "1407/1407 [==============================] - 20s 14ms/step - loss: 2.0031 - accuracy: 0.2626 - val_loss: 2.3649 - val_accuracy: 0.1046\n",
      "Epoch 92/100\n",
      "1407/1407 [==============================] - 20s 14ms/step - loss: 2.0059 - accuracy: 0.2633 - val_loss: 2.3266 - val_accuracy: 0.1040\n",
      "Epoch 93/100\n",
      "1407/1407 [==============================] - 20s 14ms/step - loss: 1.9955 - accuracy: 0.2628 - val_loss: 1.9595 - val_accuracy: 0.2896\n",
      "Epoch 94/100\n",
      "1407/1407 [==============================] - 19s 14ms/step - loss: 1.9960 - accuracy: 0.2644 - val_loss: 3.0937 - val_accuracy: 0.1850\n",
      "Epoch 95/100\n",
      "1407/1407 [==============================] - 20s 14ms/step - loss: 1.9911 - accuracy: 0.2647 - val_loss: 2.3082 - val_accuracy: 0.1412\n",
      "Epoch 96/100\n",
      "1407/1407 [==============================] - 20s 15ms/step - loss: 2.0055 - accuracy: 0.2627 - val_loss: 2.3216 - val_accuracy: 0.1580\n",
      "Epoch 97/100\n",
      "1407/1407 [==============================] - 20s 14ms/step - loss: 1.9936 - accuracy: 0.2679 - val_loss: 2.2346 - val_accuracy: 0.1712\n",
      "Epoch 98/100\n",
      "1407/1407 [==============================] - 20s 14ms/step - loss: 1.9891 - accuracy: 0.2650 - val_loss: 2.2208 - val_accuracy: 0.1564\n",
      "Epoch 99/100\n",
      "1407/1407 [==============================] - 20s 14ms/step - loss: 2.0035 - accuracy: 0.2656 - val_loss: 2.2289 - val_accuracy: 0.1564\n",
      "Epoch 100/100\n",
      "1407/1407 [==============================] - 20s 14ms/step - loss: 1.9900 - accuracy: 0.2654 - val_loss: 2.1718 - val_accuracy: 0.2112\n"
     ]
    }
   ],
   "source": [
    "history = model.fit(X_train, y_train, epochs=100,\n",
    "                    validation_data=(X_valid, y_valid))"
   ]
  },
  {
   "cell_type": "code",
   "execution_count": 58,
   "metadata": {},
   "outputs": [
    {
     "data": {
      "image/png": "[encoded data removed]",
      "text/plain": [
       "<Figure size 720x504 with 1 Axes>"
      ]
     },
     "metadata": {
      "needs_background": "light"
     },
     "output_type": "display_data"
    }
   ],
   "source": [
    "pd.DataFrame(history.history).plot(figsize=(10, 7))\n",
    "plt.grid(True)\n",
    "\n",
    "plt.show()"
   ]
  },
  {
   "cell_type": "code",
   "execution_count": 59,
   "metadata": {},
   "outputs": [
    {
     "name": "stdout",
     "output_type": "stream",
     "text": [
      "1407/1407 [==============================] - 5s 4ms/step - loss: 2.1693 - accuracy: 0.2083\n"
     ]
    },
    {
     "data": {
      "text/plain": [
       "[2.1693332195281982, 0.20828889310359955]"
      ]
     },
     "execution_count": 59,
     "metadata": {},
     "output_type": "execute_result"
    }
   ],
   "source": [
    "model.evaluate(X_train, y_train)"
   ]
  },
  {
   "cell_type": "code",
   "execution_count": 60,
   "metadata": {},
   "outputs": [
    {
     "name": "stdout",
     "output_type": "stream",
     "text": [
      "157/157 [==============================] - 1s 4ms/step - loss: 2.1718 - accuracy: 0.2112\n"
     ]
    },
    {
     "data": {
      "text/plain": [
       "[2.1718060970306396, 0.21119999885559082]"
      ]
     },
     "execution_count": 60,
     "metadata": {},
     "output_type": "execute_result"
    }
   ],
   "source": [
    "model.evaluate(X_valid, y_valid)"
   ]
  },
  {
   "cell_type": "markdown",
   "metadata": {},
   "source": [
    "It converges faster and the model has higher accuracy, nevertheless, the training time has more than doubled compared to the model before."
   ]
  },
  {
   "cell_type": "markdown",
   "metadata": {},
   "source": [
    "### Question 2.4 (10 points)\n",
    "\n",
    "Try regularizing the model with dropout. Then, without retraining your model, see if you can achieve better accuracy using different rate of Dropout."
   ]
  },
  {
   "cell_type": "code",
   "execution_count": 61,
   "metadata": {},
   "outputs": [],
   "source": [
    "_20_100_layers = [100]*20\n",
    "\n",
    "model = keras.models.Sequential()\n",
    "model.add(keras.layers.Flatten(input_shape=[32, 32,3]))\n",
    "\n",
    "for n_hidden in _20_100_layers:\n",
    "    model.add(keras.layers.Dropout(rate=0.2))\n",
    "    model.add(keras.layers.Dense(n_hidden, activation=\"relu\", kernel_initializer=\"he_normal\"))\n",
    "\n",
    "model.add(keras.layers.Dense(10, activation=\"softmax\", kernel_regularizer=keras.regularizers.l2(0.01)))"
   ]
  },
  {
   "cell_type": "code",
   "execution_count": 62,
   "metadata": {},
   "outputs": [
    {
     "name": "stderr",
     "output_type": "stream",
     "text": [
      "C:\\Users\\anton\\anaconda3\\lib\\site-packages\\keras\\optimizer_v2\\adam.py:105: UserWarning: The `lr` argument is deprecated, use `learning_rate` instead.\n",
      "  super(Adam, self).__init__(name, **kwargs)\n"
     ]
    }
   ],
   "source": [
    "model.compile(loss=\"sparse_categorical_crossentropy\",\n",
    "              optimizer=keras.optimizers.Adam(lr=0.001, beta_1=0.9, beta_2=0.999),\n",
    "              metrics=[\"accuracy\"])"
   ]
  },
  {
   "cell_type": "code",
   "execution_count": 63,
   "metadata": {
    "collapsed": true,
    "jupyter": {
     "outputs_hidden": true
    },
    "tags": []
   },
   "outputs": [
    {
     "name": "stdout",
     "output_type": "stream",
     "text": [
      "Epoch 1/100\n",
      "1407/1407 [==============================] - 15s 10ms/step - loss: 15.8601 - accuracy: 0.1011 - val_loss: 2.4704 - val_accuracy: 0.0976\n",
      "Epoch 2/100\n",
      "1407/1407 [==============================] - 13s 9ms/step - loss: 2.4688 - accuracy: 0.1022 - val_loss: 2.4619 - val_accuracy: 0.0972\n",
      "Epoch 3/100\n",
      "1407/1407 [==============================] - 13s 9ms/step - loss: 2.4554 - accuracy: 0.0997 - val_loss: 2.4474 - val_accuracy: 0.1010\n",
      "Epoch 4/100\n",
      "1407/1407 [==============================] - 13s 9ms/step - loss: 2.4386 - accuracy: 0.0978 - val_loss: 2.4266 - val_accuracy: 0.1036\n",
      "Epoch 5/100\n",
      "1407/1407 [==============================] - 13s 9ms/step - loss: 2.4142 - accuracy: 0.1009 - val_loss: 2.3997 - val_accuracy: 0.0972\n",
      "Epoch 6/100\n",
      "1407/1407 [==============================] - 13s 9ms/step - loss: 2.3848 - accuracy: 0.0976 - val_loss: 2.3674 - val_accuracy: 0.1010\n",
      "Epoch 7/100\n",
      "1407/1407 [==============================] - 13s 9ms/step - loss: 2.3519 - accuracy: 0.0982 - val_loss: 2.3371 - val_accuracy: 0.1040\n",
      "Epoch 8/100\n",
      "1407/1407 [==============================] - 13s 10ms/step - loss: 2.3255 - accuracy: 0.0978 - val_loss: 2.3159 - val_accuracy: 0.0920\n",
      "Epoch 9/100\n",
      "1407/1407 [==============================] - 13s 9ms/step - loss: 2.3100 - accuracy: 0.0974 - val_loss: 2.3060 - val_accuracy: 0.0972\n",
      "Epoch 10/100\n",
      "1407/1407 [==============================] - 13s 9ms/step - loss: 2.3043 - accuracy: 0.0985 - val_loss: 2.3033 - val_accuracy: 0.0920\n",
      "Epoch 11/100\n",
      "1407/1407 [==============================] - 13s 9ms/step - loss: 2.3032 - accuracy: 0.0969 - val_loss: 2.3027 - val_accuracy: 0.0920\n",
      "Epoch 12/100\n",
      "1407/1407 [==============================] - 13s 9ms/step - loss: 2.3032 - accuracy: 0.0992 - val_loss: 2.3032 - val_accuracy: 0.0976\n",
      "Epoch 13/100\n",
      "1407/1407 [==============================] - 13s 9ms/step - loss: 2.3029 - accuracy: 0.0992 - val_loss: 2.3027 - val_accuracy: 0.1038\n",
      "Epoch 14/100\n",
      "1407/1407 [==============================] - 13s 9ms/step - loss: 2.3028 - accuracy: 0.0976 - val_loss: 2.3026 - val_accuracy: 0.1010\n",
      "Epoch 15/100\n",
      "1407/1407 [==============================] - 13s 9ms/step - loss: 2.3033 - accuracy: 0.0974 - val_loss: 2.3028 - val_accuracy: 0.0920\n",
      "Epoch 16/100\n",
      "1407/1407 [==============================] - 13s 9ms/step - loss: 2.3028 - accuracy: 0.0985 - val_loss: 2.3029 - val_accuracy: 0.1010\n",
      "Epoch 17/100\n",
      "1407/1407 [==============================] - 13s 9ms/step - loss: 2.3029 - accuracy: 0.0971 - val_loss: 2.3028 - val_accuracy: 0.0972\n",
      "Epoch 18/100\n",
      "1407/1407 [==============================] - 13s 9ms/step - loss: 2.3048 - accuracy: 0.0966 - val_loss: 2.3032 - val_accuracy: 0.0976\n",
      "Epoch 19/100\n",
      "1407/1407 [==============================] - 13s 9ms/step - loss: 2.3029 - accuracy: 0.0982 - val_loss: 2.3035 - val_accuracy: 0.0972\n",
      "Epoch 20/100\n",
      "1407/1407 [==============================] - 13s 9ms/step - loss: 2.3029 - accuracy: 0.0964 - val_loss: 2.3028 - val_accuracy: 0.0972\n",
      "Epoch 21/100\n",
      "1407/1407 [==============================] - 13s 9ms/step - loss: 2.3028 - accuracy: 0.0987 - val_loss: 2.3029 - val_accuracy: 0.0996\n",
      "Epoch 22/100\n",
      "1407/1407 [==============================] - 13s 9ms/step - loss: 2.3029 - accuracy: 0.0989 - val_loss: 2.3029 - val_accuracy: 0.1010\n",
      "Epoch 23/100\n",
      "1407/1407 [==============================] - 13s 9ms/step - loss: 2.3028 - accuracy: 0.0976 - val_loss: 2.3028 - val_accuracy: 0.0972\n",
      "Epoch 24/100\n",
      "1407/1407 [==============================] - 13s 10ms/step - loss: 2.3028 - accuracy: 0.0970 - val_loss: 2.3028 - val_accuracy: 0.0920\n",
      "Epoch 25/100\n",
      "1407/1407 [==============================] - 14s 10ms/step - loss: 2.3028 - accuracy: 0.0981 - val_loss: 2.3029 - val_accuracy: 0.0920\n",
      "Epoch 26/100\n",
      "1407/1407 [==============================] - 14s 10ms/step - loss: 2.3028 - accuracy: 0.0989 - val_loss: 2.3026 - val_accuracy: 0.1038\n",
      "Epoch 27/100\n",
      "1407/1407 [==============================] - 13s 10ms/step - loss: 2.3028 - accuracy: 0.0992 - val_loss: 2.3029 - val_accuracy: 0.0976\n",
      "Epoch 28/100\n",
      "1407/1407 [==============================] - 14s 10ms/step - loss: 2.3029 - accuracy: 0.0986 - val_loss: 2.3028 - val_accuracy: 0.1038\n",
      "Epoch 29/100\n",
      "1407/1407 [==============================] - 14s 10ms/step - loss: 2.3029 - accuracy: 0.0988 - val_loss: 2.3030 - val_accuracy: 0.0920\n",
      "Epoch 30/100\n",
      "1407/1407 [==============================] - 14s 10ms/step - loss: 2.3028 - accuracy: 0.1002 - val_loss: 2.3026 - val_accuracy: 0.1038\n",
      "Epoch 31/100\n",
      "1407/1407 [==============================] - 14s 10ms/step - loss: 2.3028 - accuracy: 0.0992 - val_loss: 2.3064 - val_accuracy: 0.1040\n",
      "Epoch 32/100\n",
      "1407/1407 [==============================] - 14s 10ms/step - loss: 2.3031 - accuracy: 0.0964 - val_loss: 2.3027 - val_accuracy: 0.1010\n",
      "Epoch 33/100\n",
      "1407/1407 [==============================] - 14s 10ms/step - loss: 2.3028 - accuracy: 0.0975 - val_loss: 2.3027 - val_accuracy: 0.1038\n",
      "Epoch 34/100\n",
      "1407/1407 [==============================] - 13s 10ms/step - loss: 2.3027 - accuracy: 0.0980 - val_loss: 2.3025 - val_accuracy: 0.1038\n",
      "Epoch 35/100\n",
      "1407/1407 [==============================] - 14s 10ms/step - loss: 2.3027 - accuracy: 0.1001 - val_loss: 2.3029 - val_accuracy: 0.1010\n",
      "Epoch 36/100\n",
      "1407/1407 [==============================] - 14s 10ms/step - loss: 2.3028 - accuracy: 0.0974 - val_loss: 2.3030 - val_accuracy: 0.0920\n",
      "Epoch 37/100\n",
      "1407/1407 [==============================] - 14s 10ms/step - loss: 2.3028 - accuracy: 0.0991 - val_loss: 2.3030 - val_accuracy: 0.0972\n",
      "Epoch 38/100\n",
      "1407/1407 [==============================] - 14s 10ms/step - loss: 2.3028 - accuracy: 0.0986 - val_loss: 2.3025 - val_accuracy: 0.0972\n",
      "Epoch 39/100\n",
      "1407/1407 [==============================] - 14s 10ms/step - loss: 2.3028 - accuracy: 0.0994 - val_loss: 2.3026 - val_accuracy: 0.1040\n",
      "Epoch 40/100\n",
      "1407/1407 [==============================] - 14s 10ms/step - loss: 2.3028 - accuracy: 0.0995 - val_loss: 2.3028 - val_accuracy: 0.0920\n",
      "Epoch 41/100\n",
      "1407/1407 [==============================] - 14s 10ms/step - loss: 2.3028 - accuracy: 0.0975 - val_loss: 2.3028 - val_accuracy: 0.0996\n",
      "Epoch 42/100\n",
      "1407/1407 [==============================] - 14s 10ms/step - loss: 2.3027 - accuracy: 0.0984 - val_loss: 2.3033 - val_accuracy: 0.0972\n",
      "Epoch 43/100\n",
      "1407/1407 [==============================] - 14s 10ms/step - loss: 2.3028 - accuracy: 0.0996 - val_loss: 2.3029 - val_accuracy: 0.0920\n",
      "Epoch 44/100\n",
      "1407/1407 [==============================] - 14s 10ms/step - loss: 2.3027 - accuracy: 0.0976 - val_loss: 2.3028 - val_accuracy: 0.1040\n",
      "Epoch 45/100\n",
      "1407/1407 [==============================] - 14s 10ms/step - loss: 2.3027 - accuracy: 0.0985 - val_loss: 2.3028 - val_accuracy: 0.1038\n",
      "Epoch 46/100\n",
      "1407/1407 [==============================] - 14s 10ms/step - loss: 2.3028 - accuracy: 0.0977 - val_loss: 2.3029 - val_accuracy: 0.1010\n",
      "Epoch 47/100\n",
      "1407/1407 [==============================] - 14s 10ms/step - loss: 2.3028 - accuracy: 0.0990 - val_loss: 2.3028 - val_accuracy: 0.0972\n",
      "Epoch 48/100\n",
      "1407/1407 [==============================] - 15s 11ms/step - loss: 2.3028 - accuracy: 0.0986 - val_loss: 2.3030 - val_accuracy: 0.0920\n",
      "Epoch 49/100\n",
      "1407/1407 [==============================] - 15s 11ms/step - loss: 2.3028 - accuracy: 0.0988 - val_loss: 2.3027 - val_accuracy: 0.0976\n",
      "Epoch 50/100\n",
      "1407/1407 [==============================] - 14s 10ms/step - loss: 2.3027 - accuracy: 0.0983 - val_loss: 2.3029 - val_accuracy: 0.0976\n",
      "Epoch 51/100\n",
      "1407/1407 [==============================] - 14s 10ms/step - loss: 2.3028 - accuracy: 0.0971 - val_loss: 2.3028 - val_accuracy: 0.0976\n",
      "Epoch 52/100\n",
      "1407/1407 [==============================] - 14s 10ms/step - loss: 2.3028 - accuracy: 0.0984 - val_loss: 2.3029 - val_accuracy: 0.0920\n",
      "Epoch 53/100\n",
      "1407/1407 [==============================] - 14s 10ms/step - loss: 2.3028 - accuracy: 0.1001 - val_loss: 2.3026 - val_accuracy: 0.1038\n",
      "Epoch 54/100\n",
      "1407/1407 [==============================] - 14s 10ms/step - loss: 2.3028 - accuracy: 0.0965 - val_loss: 2.3028 - val_accuracy: 0.0920\n",
      "Epoch 55/100\n",
      "1407/1407 [==============================] - 14s 10ms/step - loss: 2.3027 - accuracy: 0.0997 - val_loss: 2.3032 - val_accuracy: 0.0920\n",
      "Epoch 56/100\n",
      "1407/1407 [==============================] - 14s 10ms/step - loss: 2.3028 - accuracy: 0.0978 - val_loss: 2.3029 - val_accuracy: 0.0996\n",
      "Epoch 57/100\n",
      "1407/1407 [==============================] - 14s 10ms/step - loss: 2.3028 - accuracy: 0.0974 - val_loss: 2.3027 - val_accuracy: 0.0996\n",
      "Epoch 58/100\n",
      "1407/1407 [==============================] - 14s 10ms/step - loss: 2.3028 - accuracy: 0.0979 - val_loss: 2.3029 - val_accuracy: 0.0920\n",
      "Epoch 59/100\n",
      "1407/1407 [==============================] - 14s 10ms/step - loss: 2.3028 - accuracy: 0.0989 - val_loss: 2.3025 - val_accuracy: 0.1038\n",
      "Epoch 60/100\n",
      "1407/1407 [==============================] - 14s 10ms/step - loss: 2.3028 - accuracy: 0.0995 - val_loss: 2.3026 - val_accuracy: 0.0996\n",
      "Epoch 61/100\n",
      "1407/1407 [==============================] - 14s 10ms/step - loss: 2.3028 - accuracy: 0.0987 - val_loss: 2.3026 - val_accuracy: 0.1038\n",
      "Epoch 62/100\n",
      "1407/1407 [==============================] - 14s 10ms/step - loss: 2.3028 - accuracy: 0.0995 - val_loss: 2.3026 - val_accuracy: 0.0976\n",
      "Epoch 63/100\n",
      "1407/1407 [==============================] - 14s 10ms/step - loss: 2.3027 - accuracy: 0.1001 - val_loss: 2.3030 - val_accuracy: 0.0972\n",
      "Epoch 64/100\n",
      "1407/1407 [==============================] - 14s 10ms/step - loss: 2.3028 - accuracy: 0.0990 - val_loss: 2.3031 - val_accuracy: 0.0920\n",
      "Epoch 65/100\n",
      "1407/1407 [==============================] - 14s 10ms/step - loss: 2.3028 - accuracy: 0.0991 - val_loss: 2.3030 - val_accuracy: 0.0920\n",
      "Epoch 66/100\n",
      "1407/1407 [==============================] - 14s 10ms/step - loss: 2.3027 - accuracy: 0.1001 - val_loss: 2.3027 - val_accuracy: 0.0972\n",
      "Epoch 67/100\n",
      "1407/1407 [==============================] - 14s 10ms/step - loss: 2.3028 - accuracy: 0.0972 - val_loss: 2.3027 - val_accuracy: 0.0996\n",
      "Epoch 68/100\n",
      "1407/1407 [==============================] - 14s 10ms/step - loss: 2.3028 - accuracy: 0.1001 - val_loss: 2.3027 - val_accuracy: 0.0972\n",
      "Epoch 69/100\n",
      "1407/1407 [==============================] - 14s 10ms/step - loss: 2.3028 - accuracy: 0.0977 - val_loss: 2.3029 - val_accuracy: 0.0996\n",
      "Epoch 70/100\n",
      "1407/1407 [==============================] - 14s 10ms/step - loss: 2.3028 - accuracy: 0.0984 - val_loss: 2.3030 - val_accuracy: 0.0920\n",
      "Epoch 71/100\n",
      "1407/1407 [==============================] - 14s 10ms/step - loss: 2.3028 - accuracy: 0.0986 - val_loss: 2.3029 - val_accuracy: 0.0920\n",
      "Epoch 72/100\n",
      "1407/1407 [==============================] - 14s 10ms/step - loss: 2.3028 - accuracy: 0.0986 - val_loss: 2.3028 - val_accuracy: 0.1038\n",
      "Epoch 73/100\n",
      "1407/1407 [==============================] - 14s 10ms/step - loss: 2.3028 - accuracy: 0.0971 - val_loss: 2.3029 - val_accuracy: 0.0976\n",
      "Epoch 74/100\n",
      "1407/1407 [==============================] - 14s 10ms/step - loss: 2.3028 - accuracy: 0.0992 - val_loss: 2.3027 - val_accuracy: 0.0972\n",
      "Epoch 75/100\n",
      "1407/1407 [==============================] - 14s 10ms/step - loss: 2.3028 - accuracy: 0.0979 - val_loss: 2.3029 - val_accuracy: 0.0972\n",
      "Epoch 76/100\n",
      "1407/1407 [==============================] - 14s 10ms/step - loss: 2.3028 - accuracy: 0.0965 - val_loss: 2.3029 - val_accuracy: 0.0972\n",
      "Epoch 77/100\n",
      "1407/1407 [==============================] - 14s 10ms/step - loss: 2.3028 - accuracy: 0.1003 - val_loss: 2.3028 - val_accuracy: 0.0920\n",
      "Epoch 78/100\n",
      "1407/1407 [==============================] - 14s 10ms/step - loss: 2.3028 - accuracy: 0.0995 - val_loss: 2.3027 - val_accuracy: 0.0920\n",
      "Epoch 79/100\n",
      "1407/1407 [==============================] - 14s 10ms/step - loss: 2.3027 - accuracy: 0.0982 - val_loss: 2.3029 - val_accuracy: 0.0976\n",
      "Epoch 80/100\n",
      "1407/1407 [==============================] - 14s 10ms/step - loss: 2.3028 - accuracy: 0.0991 - val_loss: 2.3027 - val_accuracy: 0.0972\n",
      "Epoch 81/100\n",
      "1407/1407 [==============================] - 14s 10ms/step - loss: 2.3028 - accuracy: 0.0993 - val_loss: 2.3027 - val_accuracy: 0.0972\n",
      "Epoch 82/100\n",
      "1407/1407 [==============================] - 14s 10ms/step - loss: 2.3028 - accuracy: 0.0977 - val_loss: 2.3028 - val_accuracy: 0.1038\n",
      "Epoch 83/100\n",
      "1407/1407 [==============================] - 14s 10ms/step - loss: 2.3028 - accuracy: 0.0969 - val_loss: 2.3027 - val_accuracy: 0.0920\n",
      "Epoch 84/100\n",
      "1407/1407 [==============================] - 14s 10ms/step - loss: 2.3028 - accuracy: 0.0986 - val_loss: 2.3027 - val_accuracy: 0.0996\n",
      "Epoch 85/100\n",
      "1407/1407 [==============================] - 14s 10ms/step - loss: 2.3028 - accuracy: 0.0989 - val_loss: 2.3027 - val_accuracy: 0.0972\n",
      "Epoch 86/100\n",
      "1407/1407 [==============================] - 14s 10ms/step - loss: 2.3028 - accuracy: 0.0982 - val_loss: 2.3029 - val_accuracy: 0.0972\n",
      "Epoch 87/100\n",
      "1407/1407 [==============================] - 14s 10ms/step - loss: 2.3027 - accuracy: 0.0999 - val_loss: 2.3027 - val_accuracy: 0.1038\n",
      "Epoch 88/100\n",
      "1407/1407 [==============================] - 14s 10ms/step - loss: 2.3028 - accuracy: 0.0990 - val_loss: 2.3027 - val_accuracy: 0.0972\n",
      "Epoch 89/100\n",
      "1407/1407 [==============================] - 14s 10ms/step - loss: 2.3027 - accuracy: 0.1019 - val_loss: 2.3028 - val_accuracy: 0.0972\n",
      "Epoch 90/100\n",
      "1407/1407 [==============================] - 14s 10ms/step - loss: 2.3028 - accuracy: 0.0972 - val_loss: 2.3030 - val_accuracy: 0.0972\n",
      "Epoch 91/100\n",
      "1407/1407 [==============================] - 14s 10ms/step - loss: 2.3028 - accuracy: 0.0978 - val_loss: 2.3027 - val_accuracy: 0.0976\n",
      "Epoch 92/100\n",
      "1407/1407 [==============================] - 14s 10ms/step - loss: 2.3028 - accuracy: 0.0967 - val_loss: 2.3027 - val_accuracy: 0.0972\n",
      "Epoch 93/100\n",
      "1407/1407 [==============================] - 14s 10ms/step - loss: 2.3028 - accuracy: 0.1004 - val_loss: 2.3027 - val_accuracy: 0.0972\n",
      "Epoch 94/100\n",
      "1407/1407 [==============================] - 14s 10ms/step - loss: 2.3028 - accuracy: 0.0985 - val_loss: 2.3026 - val_accuracy: 0.1010\n",
      "Epoch 95/100\n",
      "1407/1407 [==============================] - 14s 10ms/step - loss: 2.3028 - accuracy: 0.0966 - val_loss: 2.3028 - val_accuracy: 0.0976\n",
      "Epoch 96/100\n",
      "1407/1407 [==============================] - 14s 10ms/step - loss: 2.3028 - accuracy: 0.0986 - val_loss: 2.3029 - val_accuracy: 0.0920\n",
      "Epoch 97/100\n",
      "1407/1407 [==============================] - 15s 10ms/step - loss: 2.3028 - accuracy: 0.0982 - val_loss: 2.3027 - val_accuracy: 0.0920\n",
      "Epoch 98/100\n",
      "1407/1407 [==============================] - 14s 10ms/step - loss: 2.3028 - accuracy: 0.0987 - val_loss: 2.3029 - val_accuracy: 0.0920\n",
      "Epoch 99/100\n",
      "1407/1407 [==============================] - 14s 10ms/step - loss: 2.3028 - accuracy: 0.0980 - val_loss: 2.3027 - val_accuracy: 0.0920\n",
      "Epoch 100/100\n",
      "1407/1407 [==============================] - 14s 10ms/step - loss: 2.3028 - accuracy: 0.0980 - val_loss: 2.3029 - val_accuracy: 0.0976\n"
     ]
    }
   ],
   "source": [
    "history = model.fit(X_train, y_train, epochs=100,\n",
    "                    validation_data=(X_valid, y_valid))"
   ]
  },
  {
   "cell_type": "code",
   "execution_count": 64,
   "metadata": {},
   "outputs": [
    {
     "data": {
      "image/png": "[encoded data removed]",
      "text/plain": [
       "<Figure size 720x504 with 1 Axes>"
      ]
     },
     "metadata": {
      "needs_background": "light"
     },
     "output_type": "display_data"
    }
   ],
   "source": [
    "pd.DataFrame(history.history).plot(figsize=(10, 7))\n",
    "plt.grid(True)\n",
    "\n",
    "plt.show()"
   ]
  },
  {
   "cell_type": "code",
   "execution_count": 65,
   "metadata": {},
   "outputs": [
    {
     "name": "stdout",
     "output_type": "stream",
     "text": [
      "1407/1407 [==============================] - 4s 3ms/step - loss: 2.3026 - accuracy: 0.1003\n"
     ]
    },
    {
     "data": {
      "text/plain": [
       "[2.3026082515716553, 0.10026666522026062]"
      ]
     },
     "execution_count": 65,
     "metadata": {},
     "output_type": "execute_result"
    }
   ],
   "source": [
    "model.evaluate(X_train, y_train)"
   ]
  },
  {
   "cell_type": "code",
   "execution_count": 66,
   "metadata": {},
   "outputs": [
    {
     "name": "stdout",
     "output_type": "stream",
     "text": [
      "157/157 [==============================] - 1s 3ms/step - loss: 2.3029 - accuracy: 0.0976\n"
     ]
    },
    {
     "data": {
      "text/plain": [
       "[2.302945375442505, 0.09759999811649323]"
      ]
     },
     "execution_count": 66,
     "metadata": {},
     "output_type": "execute_result"
    }
   ],
   "source": [
    "model.evaluate(X_valid, y_valid)"
   ]
  },
  {
   "cell_type": "markdown",
   "metadata": {},
   "source": [
    "##### Different rate"
   ]
  },
  {
   "cell_type": "code",
   "execution_count": 67,
   "metadata": {},
   "outputs": [],
   "source": [
    "_20_100_layers = [100]*20\n",
    "\n",
    "model = keras.models.Sequential()\n",
    "model.add(keras.layers.Flatten(input_shape=[32, 32,3]))\n",
    "\n",
    "for n_hidden in _20_100_layers:\n",
    "    model.add(keras.layers.Dropout(rate=0.6))\n",
    "    model.add(keras.layers.Dense(n_hidden, activation=\"relu\", kernel_initializer=\"he_normal\"))\n",
    "\n",
    "model.add(keras.layers.Dense(10, activation=\"softmax\", kernel_regularizer=keras.regularizers.l2(0.01)))"
   ]
  },
  {
   "cell_type": "code",
   "execution_count": 68,
   "metadata": {},
   "outputs": [
    {
     "name": "stderr",
     "output_type": "stream",
     "text": [
      "C:\\Users\\anton\\anaconda3\\lib\\site-packages\\keras\\optimizer_v2\\adam.py:105: UserWarning: The `lr` argument is deprecated, use `learning_rate` instead.\n",
      "  super(Adam, self).__init__(name, **kwargs)\n"
     ]
    }
   ],
   "source": [
    "model.compile(loss=\"sparse_categorical_crossentropy\",\n",
    "              optimizer=keras.optimizers.Adam(lr=0.001, beta_1=0.9, beta_2=0.999),\n",
    "              metrics=[\"accuracy\"])"
   ]
  },
  {
   "cell_type": "code",
   "execution_count": 69,
   "metadata": {
    "collapsed": true,
    "jupyter": {
     "outputs_hidden": true
    },
    "tags": []
   },
   "outputs": [
    {
     "name": "stdout",
     "output_type": "stream",
     "text": [
      "Epoch 1/100\n",
      "1407/1407 [==============================] - 15s 10ms/step - loss: 9341.9590 - accuracy: 0.0969 - val_loss: 2.4672 - val_accuracy: 0.0976\n",
      "Epoch 2/100\n",
      "1407/1407 [==============================] - 13s 10ms/step - loss: 10.0096 - accuracy: 0.1008 - val_loss: 2.4672 - val_accuracy: 0.0972\n",
      "Epoch 3/100\n",
      "1407/1407 [==============================] - 14s 10ms/step - loss: 5.7449 - accuracy: 0.0995 - val_loss: 2.4669 - val_accuracy: 0.1010\n",
      "Epoch 4/100\n",
      "1407/1407 [==============================] - 14s 10ms/step - loss: 4.0834 - accuracy: 0.0974 - val_loss: 2.4665 - val_accuracy: 0.1038\n",
      "Epoch 5/100\n",
      "1407/1407 [==============================] - 14s 10ms/step - loss: 3.2158 - accuracy: 0.1008 - val_loss: 2.4668 - val_accuracy: 0.0972\n",
      "Epoch 6/100\n",
      "1407/1407 [==============================] - 13s 9ms/step - loss: 4.0417 - accuracy: 0.0989 - val_loss: 2.4662 - val_accuracy: 0.0920\n",
      "Epoch 7/100\n",
      "1407/1407 [==============================] - 14s 10ms/step - loss: 2.7298 - accuracy: 0.0973 - val_loss: 2.4660 - val_accuracy: 0.0920\n",
      "Epoch 8/100\n",
      "1407/1407 [==============================] - 14s 10ms/step - loss: 2.9765 - accuracy: 0.0974 - val_loss: 2.4651 - val_accuracy: 0.1038\n",
      "Epoch 9/100\n",
      "1407/1407 [==============================] - 14s 10ms/step - loss: 2.6437 - accuracy: 0.0965 - val_loss: 2.4644 - val_accuracy: 0.0972\n",
      "Epoch 10/100\n",
      "1407/1407 [==============================] - 14s 10ms/step - loss: 2.4722 - accuracy: 0.0990 - val_loss: 2.4627 - val_accuracy: 0.0996\n",
      "Epoch 11/100\n",
      "1407/1407 [==============================] - 14s 10ms/step - loss: 2.5116 - accuracy: 0.0980 - val_loss: 2.4591 - val_accuracy: 0.0996\n",
      "Epoch 12/100\n",
      "1407/1407 [==============================] - 13s 10ms/step - loss: 2.8115 - accuracy: 0.0982 - val_loss: 2.4541 - val_accuracy: 0.0976\n",
      "Epoch 13/100\n",
      "1407/1407 [==============================] - 14s 10ms/step - loss: 2.4565 - accuracy: 0.1002 - val_loss: 2.4435 - val_accuracy: 0.1038\n",
      "Epoch 14/100\n",
      "1407/1407 [==============================] - 14s 10ms/step - loss: 2.6040 - accuracy: 0.0988 - val_loss: 2.4274 - val_accuracy: 0.1010\n",
      "Epoch 15/100\n",
      "1407/1407 [==============================] - 14s 10ms/step - loss: 2.5273 - accuracy: 0.0992 - val_loss: 2.4033 - val_accuracy: 0.0920\n",
      "Epoch 16/100\n",
      "1407/1407 [==============================] - 14s 10ms/step - loss: 2.3891 - accuracy: 0.0991 - val_loss: 2.3745 - val_accuracy: 0.1010\n",
      "Epoch 17/100\n",
      "1407/1407 [==============================] - 14s 10ms/step - loss: 2.3970 - accuracy: 0.0950 - val_loss: 2.3493 - val_accuracy: 0.0972\n",
      "Epoch 18/100\n",
      "1407/1407 [==============================] - 14s 10ms/step - loss: 2.3736 - accuracy: 0.0968 - val_loss: 2.3329 - val_accuracy: 0.0972\n",
      "Epoch 19/100\n",
      "1407/1407 [==============================] - 13s 10ms/step - loss: 2.3844 - accuracy: 0.1007 - val_loss: 2.3249 - val_accuracy: 0.0972\n",
      "Epoch 20/100\n",
      "1407/1407 [==============================] - 14s 10ms/step - loss: 2.3641 - accuracy: 0.0987 - val_loss: 2.3207 - val_accuracy: 0.0972\n",
      "Epoch 21/100\n",
      "1407/1407 [==============================] - 14s 10ms/step - loss: 2.3223 - accuracy: 0.0987 - val_loss: 2.3173 - val_accuracy: 0.0996\n",
      "Epoch 22/100\n",
      "1407/1407 [==============================] - 14s 10ms/step - loss: 2.3156 - accuracy: 0.0995 - val_loss: 2.3137 - val_accuracy: 0.0996\n",
      "Epoch 23/100\n",
      "1407/1407 [==============================] - 14s 10ms/step - loss: 2.3121 - accuracy: 0.0982 - val_loss: 2.3105 - val_accuracy: 0.0972\n",
      "Epoch 24/100\n",
      "1407/1407 [==============================] - 14s 10ms/step - loss: 2.4335 - accuracy: 0.0978 - val_loss: 2.3087 - val_accuracy: 0.0920\n",
      "Epoch 25/100\n",
      "1407/1407 [==============================] - 14s 10ms/step - loss: 2.3292 - accuracy: 0.0982 - val_loss: 2.3077 - val_accuracy: 0.0920\n",
      "Epoch 26/100\n",
      "1407/1407 [==============================] - 14s 10ms/step - loss: 2.3158 - accuracy: 0.0992 - val_loss: 2.3069 - val_accuracy: 0.1038\n",
      "Epoch 27/100\n",
      "1407/1407 [==============================] - 14s 10ms/step - loss: 2.3238 - accuracy: 0.0974 - val_loss: 2.3061 - val_accuracy: 0.0976\n",
      "Epoch 28/100\n",
      "1407/1407 [==============================] - 14s 10ms/step - loss: 2.3056 - accuracy: 0.0990 - val_loss: 2.3052 - val_accuracy: 0.1038\n",
      "Epoch 29/100\n",
      "1407/1407 [==============================] - 14s 10ms/step - loss: 2.3108 - accuracy: 0.1002 - val_loss: 2.3047 - val_accuracy: 0.0920\n",
      "Epoch 30/100\n",
      "1407/1407 [==============================] - 14s 10ms/step - loss: 2.3045 - accuracy: 0.0997 - val_loss: 2.3042 - val_accuracy: 0.1038\n",
      "Epoch 31/100\n",
      "1407/1407 [==============================] - 14s 10ms/step - loss: 2.3037 - accuracy: 0.1002 - val_loss: 2.3030 - val_accuracy: 0.1040\n",
      "Epoch 32/100\n",
      "1407/1407 [==============================] - 14s 10ms/step - loss: 2.3032 - accuracy: 0.0964 - val_loss: 2.3029 - val_accuracy: 0.1010\n",
      "Epoch 33/100\n",
      "1407/1407 [==============================] - 14s 10ms/step - loss: 2.3038 - accuracy: 0.0974 - val_loss: 2.3034 - val_accuracy: 0.0920\n",
      "Epoch 34/100\n",
      "1407/1407 [==============================] - 14s 10ms/step - loss: 2.3043 - accuracy: 0.0984 - val_loss: 2.3034 - val_accuracy: 0.1038\n",
      "Epoch 35/100\n",
      "1407/1407 [==============================] - 14s 10ms/step - loss: 2.3033 - accuracy: 0.1005 - val_loss: 2.3033 - val_accuracy: 0.1010\n",
      "Epoch 36/100\n",
      "1407/1407 [==============================] - 14s 10ms/step - loss: 2.3293 - accuracy: 0.0985 - val_loss: 2.3041 - val_accuracy: 0.0920\n",
      "Epoch 37/100\n",
      "1407/1407 [==============================] - 14s 10ms/step - loss: 2.3039 - accuracy: 0.0990 - val_loss: 2.3040 - val_accuracy: 0.0972\n",
      "Epoch 38/100\n",
      "1407/1407 [==============================] - 14s 10ms/step - loss: 2.3039 - accuracy: 0.1004 - val_loss: 2.3031 - val_accuracy: 0.0972\n",
      "Epoch 39/100\n",
      "1407/1407 [==============================] - 14s 10ms/step - loss: 2.3078 - accuracy: 0.0990 - val_loss: 2.3032 - val_accuracy: 0.1040\n",
      "Epoch 40/100\n",
      "1407/1407 [==============================] - 14s 10ms/step - loss: 2.3226 - accuracy: 0.1000 - val_loss: 2.3042 - val_accuracy: 0.0920\n",
      "Epoch 41/100\n",
      "1407/1407 [==============================] - 14s 10ms/step - loss: 2.3040 - accuracy: 0.0978 - val_loss: 2.3039 - val_accuracy: 0.0996\n",
      "Epoch 42/100\n",
      "1407/1407 [==============================] - 15s 11ms/step - loss: 2.3044 - accuracy: 0.0994 - val_loss: 2.3045 - val_accuracy: 0.0972\n",
      "Epoch 43/100\n",
      "1407/1407 [==============================] - 14s 10ms/step - loss: 2.3045 - accuracy: 0.1006 - val_loss: 2.3045 - val_accuracy: 0.0920\n",
      "Epoch 44/100\n",
      "1407/1407 [==============================] - 14s 10ms/step - loss: 2.3036 - accuracy: 0.0978 - val_loss: 2.3033 - val_accuracy: 0.1040\n",
      "Epoch 45/100\n",
      "1407/1407 [==============================] - 14s 10ms/step - loss: 2.3039 - accuracy: 0.0992 - val_loss: 2.3032 - val_accuracy: 0.1038\n",
      "Epoch 46/100\n",
      "1407/1407 [==============================] - 14s 10ms/step - loss: 2.3030 - accuracy: 0.0968 - val_loss: 2.3030 - val_accuracy: 0.1010\n",
      "Epoch 47/100\n",
      "1407/1407 [==============================] - 14s 10ms/step - loss: 2.3029 - accuracy: 0.0984 - val_loss: 2.3028 - val_accuracy: 0.0972\n",
      "Epoch 48/100\n",
      "1407/1407 [==============================] - 14s 10ms/step - loss: 2.3028 - accuracy: 0.0985 - val_loss: 2.3030 - val_accuracy: 0.0920\n",
      "Epoch 49/100\n",
      "1407/1407 [==============================] - 14s 10ms/step - loss: 2.3029 - accuracy: 0.0993 - val_loss: 2.3036 - val_accuracy: 0.0976\n",
      "Epoch 50/100\n",
      "1407/1407 [==============================] - 14s 10ms/step - loss: 2.3040 - accuracy: 0.0982 - val_loss: 2.3030 - val_accuracy: 0.0976\n",
      "Epoch 51/100\n",
      "1407/1407 [==============================] - 14s 10ms/step - loss: 2.3035 - accuracy: 0.0969 - val_loss: 2.3035 - val_accuracy: 0.0976\n",
      "Epoch 52/100\n",
      "1407/1407 [==============================] - 14s 10ms/step - loss: 2.3057 - accuracy: 0.0987 - val_loss: 2.3031 - val_accuracy: 0.0920\n",
      "Epoch 53/100\n",
      "1407/1407 [==============================] - 14s 10ms/step - loss: 2.3030 - accuracy: 0.0996 - val_loss: 2.3029 - val_accuracy: 0.1038\n",
      "Epoch 54/100\n",
      "1407/1407 [==============================] - 14s 10ms/step - loss: 2.3030 - accuracy: 0.0965 - val_loss: 2.3030 - val_accuracy: 0.0920\n",
      "Epoch 55/100\n",
      "1407/1407 [==============================] - 14s 10ms/step - loss: 2.3029 - accuracy: 0.0995 - val_loss: 2.3034 - val_accuracy: 0.0920\n",
      "Epoch 56/100\n",
      "1407/1407 [==============================] - 14s 10ms/step - loss: 2.3039 - accuracy: 0.0989 - val_loss: 2.3034 - val_accuracy: 0.0996\n",
      "Epoch 57/100\n",
      "1407/1407 [==============================] - 14s 10ms/step - loss: 2.3086 - accuracy: 0.0976 - val_loss: 2.3029 - val_accuracy: 0.0996\n",
      "Epoch 58/100\n",
      "1407/1407 [==============================] - 14s 10ms/step - loss: 2.3031 - accuracy: 0.0983 - val_loss: 2.3030 - val_accuracy: 0.0920\n",
      "Epoch 59/100\n",
      "1407/1407 [==============================] - 14s 10ms/step - loss: 2.3030 - accuracy: 0.0990 - val_loss: 2.3026 - val_accuracy: 0.1038\n",
      "Epoch 60/100\n",
      "1407/1407 [==============================] - 14s 10ms/step - loss: 2.3029 - accuracy: 0.0997 - val_loss: 2.3027 - val_accuracy: 0.0996\n",
      "Epoch 61/100\n",
      "1407/1407 [==============================] - 14s 10ms/step - loss: 2.3032 - accuracy: 0.0993 - val_loss: 2.3028 - val_accuracy: 0.1038\n",
      "Epoch 62/100\n",
      "1407/1407 [==============================] - 14s 10ms/step - loss: 2.3032 - accuracy: 0.0992 - val_loss: 2.3030 - val_accuracy: 0.0976\n",
      "Epoch 63/100\n",
      "1407/1407 [==============================] - 14s 10ms/step - loss: 2.3032 - accuracy: 0.1000 - val_loss: 2.3033 - val_accuracy: 0.0972\n",
      "Epoch 64/100\n",
      "1407/1407 [==============================] - 14s 10ms/step - loss: 2.3030 - accuracy: 0.0986 - val_loss: 2.3034 - val_accuracy: 0.0920\n",
      "Epoch 65/100\n",
      "1407/1407 [==============================] - 14s 10ms/step - loss: 2.3327 - accuracy: 0.0985 - val_loss: 2.3040 - val_accuracy: 0.0920\n",
      "Epoch 66/100\n",
      "1407/1407 [==============================] - 14s 10ms/step - loss: 2.3033 - accuracy: 0.1000 - val_loss: 2.3029 - val_accuracy: 0.0972\n",
      "Epoch 67/100\n",
      "1407/1407 [==============================] - 14s 10ms/step - loss: 2.3030 - accuracy: 0.0976 - val_loss: 2.3028 - val_accuracy: 0.0996\n",
      "Epoch 68/100\n",
      "1407/1407 [==============================] - 14s 10ms/step - loss: 2.3033 - accuracy: 0.1013 - val_loss: 2.3034 - val_accuracy: 0.0972\n",
      "Epoch 69/100\n",
      "1407/1407 [==============================] - 14s 10ms/step - loss: 2.3032 - accuracy: 0.0971 - val_loss: 2.3031 - val_accuracy: 0.0996\n",
      "Epoch 70/100\n",
      "1407/1407 [==============================] - 14s 10ms/step - loss: 2.3030 - accuracy: 0.0980 - val_loss: 2.3031 - val_accuracy: 0.0920\n",
      "Epoch 71/100\n",
      "1407/1407 [==============================] - 14s 10ms/step - loss: 2.3029 - accuracy: 0.0986 - val_loss: 2.3031 - val_accuracy: 0.0920\n",
      "Epoch 72/100\n",
      "1407/1407 [==============================] - 14s 10ms/step - loss: 2.3031 - accuracy: 0.0987 - val_loss: 2.3029 - val_accuracy: 0.1038\n",
      "Epoch 73/100\n",
      "1407/1407 [==============================] - 14s 10ms/step - loss: 2.3030 - accuracy: 0.0979 - val_loss: 2.3030 - val_accuracy: 0.0976\n",
      "Epoch 74/100\n",
      "1407/1407 [==============================] - 14s 10ms/step - loss: 2.3028 - accuracy: 0.0996 - val_loss: 2.3028 - val_accuracy: 0.0972\n",
      "Epoch 75/100\n",
      "1407/1407 [==============================] - 14s 10ms/step - loss: 2.3030 - accuracy: 0.0991 - val_loss: 2.3031 - val_accuracy: 0.1038\n",
      "Epoch 76/100\n",
      "1407/1407 [==============================] - 14s 10ms/step - loss: 2.3030 - accuracy: 0.0963 - val_loss: 2.3029 - val_accuracy: 0.0972\n",
      "Epoch 77/100\n",
      "1407/1407 [==============================] - 15s 10ms/step - loss: 2.3029 - accuracy: 0.1002 - val_loss: 2.3028 - val_accuracy: 0.0920\n",
      "Epoch 78/100\n",
      "1407/1407 [==============================] - 14s 10ms/step - loss: 2.3028 - accuracy: 0.0995 - val_loss: 2.3027 - val_accuracy: 0.0920\n",
      "Epoch 79/100\n",
      "1407/1407 [==============================] - 15s 10ms/step - loss: 2.3028 - accuracy: 0.0983 - val_loss: 2.3030 - val_accuracy: 0.0976\n",
      "Epoch 80/100\n",
      "1407/1407 [==============================] - 14s 10ms/step - loss: 2.3028 - accuracy: 0.0992 - val_loss: 2.3027 - val_accuracy: 0.0972\n",
      "Epoch 81/100\n",
      "1407/1407 [==============================] - 14s 10ms/step - loss: 2.3028 - accuracy: 0.0994 - val_loss: 2.3028 - val_accuracy: 0.0972\n",
      "Epoch 82/100\n",
      "1407/1407 [==============================] - 14s 10ms/step - loss: 2.3028 - accuracy: 0.0978 - val_loss: 2.3029 - val_accuracy: 0.1038\n",
      "Epoch 83/100\n",
      "1407/1407 [==============================] - 14s 10ms/step - loss: 2.3028 - accuracy: 0.0969 - val_loss: 2.3027 - val_accuracy: 0.0920\n",
      "Epoch 84/100\n",
      "1407/1407 [==============================] - 14s 10ms/step - loss: 2.3028 - accuracy: 0.0985 - val_loss: 2.3029 - val_accuracy: 0.0996\n",
      "Epoch 85/100\n",
      "1407/1407 [==============================] - 14s 10ms/step - loss: 2.3028 - accuracy: 0.0990 - val_loss: 2.3028 - val_accuracy: 0.0972\n",
      "Epoch 86/100\n",
      "1407/1407 [==============================] - 14s 10ms/step - loss: 2.3028 - accuracy: 0.0982 - val_loss: 2.3029 - val_accuracy: 0.0972\n",
      "Epoch 87/100\n",
      "1407/1407 [==============================] - 14s 10ms/step - loss: 2.3028 - accuracy: 0.0999 - val_loss: 2.3027 - val_accuracy: 0.1038\n",
      "Epoch 88/100\n",
      "1407/1407 [==============================] - 14s 10ms/step - loss: 2.3028 - accuracy: 0.0990 - val_loss: 2.3027 - val_accuracy: 0.0972\n",
      "Epoch 89/100\n",
      "1407/1407 [==============================] - 14s 10ms/step - loss: 2.3027 - accuracy: 0.1019 - val_loss: 2.3028 - val_accuracy: 0.0972\n",
      "Epoch 90/100\n",
      "1407/1407 [==============================] - 14s 10ms/step - loss: 2.3028 - accuracy: 0.0972 - val_loss: 2.3030 - val_accuracy: 0.0972\n",
      "Epoch 91/100\n",
      "1407/1407 [==============================] - 14s 10ms/step - loss: 2.3028 - accuracy: 0.0978 - val_loss: 2.3027 - val_accuracy: 0.0976\n",
      "Epoch 92/100\n",
      "1407/1407 [==============================] - 14s 10ms/step - loss: 2.3028 - accuracy: 0.0967 - val_loss: 2.3027 - val_accuracy: 0.0972\n",
      "Epoch 93/100\n",
      "1407/1407 [==============================] - 14s 10ms/step - loss: 2.3028 - accuracy: 0.1004 - val_loss: 2.3027 - val_accuracy: 0.0972\n",
      "Epoch 94/100\n",
      "1407/1407 [==============================] - 14s 10ms/step - loss: 2.3028 - accuracy: 0.0985 - val_loss: 2.3026 - val_accuracy: 0.1010\n",
      "Epoch 95/100\n",
      "1407/1407 [==============================] - 14s 10ms/step - loss: 2.3028 - accuracy: 0.0966 - val_loss: 2.3028 - val_accuracy: 0.0976\n",
      "Epoch 96/100\n",
      "1407/1407 [==============================] - 14s 10ms/step - loss: 2.3028 - accuracy: 0.0986 - val_loss: 2.3029 - val_accuracy: 0.0920\n",
      "Epoch 97/100\n",
      "1407/1407 [==============================] - 14s 10ms/step - loss: 2.3028 - accuracy: 0.0982 - val_loss: 2.3027 - val_accuracy: 0.0920\n",
      "Epoch 98/100\n",
      "1407/1407 [==============================] - 14s 10ms/step - loss: 2.3028 - accuracy: 0.0987 - val_loss: 2.3029 - val_accuracy: 0.0920\n",
      "Epoch 99/100\n",
      "1407/1407 [==============================] - 14s 10ms/step - loss: 2.3028 - accuracy: 0.0980 - val_loss: 2.3027 - val_accuracy: 0.0920\n",
      "Epoch 100/100\n",
      "1407/1407 [==============================] - 14s 10ms/step - loss: 2.3028 - accuracy: 0.0980 - val_loss: 2.3030 - val_accuracy: 0.0976\n"
     ]
    }
   ],
   "source": [
    "history = model.fit(X_train, y_train, epochs=100,\n",
    "                    validation_data=(X_valid, y_valid))"
   ]
  },
  {
   "cell_type": "code",
   "execution_count": 70,
   "metadata": {},
   "outputs": [
    {
     "data": {
      "image/png": "[encoded data removed]",
      "text/plain": [
       "<Figure size 720x504 with 1 Axes>"
      ]
     },
     "metadata": {
      "needs_background": "light"
     },
     "output_type": "display_data"
    }
   ],
   "source": [
    "pd.DataFrame(history.history).plot(figsize=(10, 7))\n",
    "plt.grid(True)\n",
    "\n",
    "plt.show()"
   ]
  },
  {
   "cell_type": "code",
   "execution_count": 71,
   "metadata": {},
   "outputs": [
    {
     "name": "stdout",
     "output_type": "stream",
     "text": [
      "1407/1407 [==============================] - 4s 3ms/step - loss: 2.3026 - accuracy: 0.1003\n"
     ]
    },
    {
     "data": {
      "text/plain": [
       "[2.302621841430664, 0.10026666522026062]"
      ]
     },
     "execution_count": 71,
     "metadata": {},
     "output_type": "execute_result"
    }
   ],
   "source": [
    "model.evaluate(X_train, y_train)"
   ]
  },
  {
   "cell_type": "code",
   "execution_count": 72,
   "metadata": {},
   "outputs": [
    {
     "name": "stdout",
     "output_type": "stream",
     "text": [
      "157/157 [==============================] - 0s 3ms/step - loss: 2.3030 - accuracy: 0.0976\n"
     ]
    },
    {
     "data": {
      "text/plain": [
       "[2.3029592037200928, 0.09759999811649323]"
      ]
     },
     "execution_count": 72,
     "metadata": {},
     "output_type": "execute_result"
    }
   ],
   "source": [
    "model.evaluate(X_valid, y_valid)"
   ]
  },
  {
   "cell_type": "markdown",
   "metadata": {},
   "source": [
    "The model performs better with a lower dropout rate such as 0.2. However, the previous model was still better."
   ]
  },
  {
   "cell_type": "markdown",
   "metadata": {
    "tags": []
   },
   "source": [
    "### Question 2.5 (10 points) \n",
    "\n",
    "Add Earlystopping to the model and save the model at the early stopping epoch using the callbacks. \n",
    "\n",
    "Last, load the model and evaluate on the test set."
   ]
  },
  {
   "cell_type": "code",
   "execution_count": 73,
   "metadata": {},
   "outputs": [],
   "source": [
    "callback = tf.keras.callbacks.EarlyStopping(monitor='loss', patience=3)\n",
    "#patience = Number of epochs with no improvement after which training will be stopped\n",
    "#monitor = Quantity to be monitored."
   ]
  },
  {
   "cell_type": "code",
   "execution_count": 74,
   "metadata": {},
   "outputs": [],
   "source": [
    "_20_100_layers = [100]*20\n",
    "\n",
    "model = keras.models.Sequential()\n",
    "model.add(keras.layers.Flatten(input_shape=[32, 32,3]))\n",
    "\n",
    "for n_hidden in _20_100_layers:\n",
    "    model.add(keras.layers.Dropout(rate=0.2))\n",
    "    model.add(keras.layers.Dense(n_hidden, activation=\"relu\", kernel_initializer=\"he_normal\"))\n",
    "\n",
    "model.add(keras.layers.Dense(10, activation=\"softmax\", kernel_regularizer=keras.regularizers.l2(0.01)))"
   ]
  },
  {
   "cell_type": "code",
   "execution_count": 75,
   "metadata": {},
   "outputs": [
    {
     "name": "stderr",
     "output_type": "stream",
     "text": [
      "C:\\Users\\anton\\anaconda3\\lib\\site-packages\\keras\\optimizer_v2\\adam.py:105: UserWarning: The `lr` argument is deprecated, use `learning_rate` instead.\n",
      "  super(Adam, self).__init__(name, **kwargs)\n"
     ]
    }
   ],
   "source": [
    "model.compile(loss=\"sparse_categorical_crossentropy\",\n",
    "              optimizer=keras.optimizers.Adam(lr=0.001, beta_1=0.9, beta_2=0.999),\n",
    "              metrics=[\"accuracy\"])"
   ]
  },
  {
   "cell_type": "code",
   "execution_count": 76,
   "metadata": {
    "collapsed": true,
    "jupyter": {
     "outputs_hidden": true
    },
    "tags": []
   },
   "outputs": [
    {
     "name": "stdout",
     "output_type": "stream",
     "text": [
      "Epoch 1/100\n",
      "1407/1407 [==============================] - 15s 10ms/step - loss: 9.4096 - accuracy: 0.0986 - val_loss: 2.4664 - val_accuracy: 0.0976\n",
      "Epoch 2/100\n",
      "1407/1407 [==============================] - 13s 9ms/step - loss: 2.4605 - accuracy: 0.0984 - val_loss: 2.4522 - val_accuracy: 0.0972\n",
      "Epoch 3/100\n",
      "1407/1407 [==============================] - 13s 9ms/step - loss: 2.4425 - accuracy: 0.0989 - val_loss: 2.4303 - val_accuracy: 0.1010\n",
      "Epoch 4/100\n",
      "1407/1407 [==============================] - 14s 10ms/step - loss: 2.4177 - accuracy: 0.0965 - val_loss: 2.4021 - val_accuracy: 0.1038\n",
      "Epoch 5/100\n",
      "1407/1407 [==============================] - 14s 10ms/step - loss: 2.3865 - accuracy: 0.1022 - val_loss: 2.3705 - val_accuracy: 0.0972\n",
      "Epoch 6/100\n",
      "1407/1407 [==============================] - 13s 10ms/step - loss: 2.3559 - accuracy: 0.0977 - val_loss: 2.3408 - val_accuracy: 0.0918\n",
      "Epoch 7/100\n",
      "1407/1407 [==============================] - 13s 10ms/step - loss: 2.3297 - accuracy: 0.0980 - val_loss: 2.3201 - val_accuracy: 0.1040\n",
      "Epoch 8/100\n",
      "1407/1407 [==============================] - 13s 9ms/step - loss: 2.3138 - accuracy: 0.0958 - val_loss: 2.3089 - val_accuracy: 0.0920\n",
      "Epoch 9/100\n",
      "1407/1407 [==============================] - 13s 9ms/step - loss: 2.3063 - accuracy: 0.0981 - val_loss: 2.3044 - val_accuracy: 0.0920\n",
      "Epoch 10/100\n",
      "1407/1407 [==============================] - 14s 10ms/step - loss: 2.3037 - accuracy: 0.0984 - val_loss: 2.3030 - val_accuracy: 0.0920\n",
      "Epoch 11/100\n",
      "1407/1407 [==============================] - 14s 10ms/step - loss: 2.3030 - accuracy: 0.0978 - val_loss: 2.3034 - val_accuracy: 0.0920\n",
      "Epoch 12/100\n",
      "1407/1407 [==============================] - 13s 10ms/step - loss: 2.3031 - accuracy: 0.0991 - val_loss: 2.3030 - val_accuracy: 0.0976\n",
      "Epoch 13/100\n",
      "1407/1407 [==============================] - 14s 10ms/step - loss: 2.3028 - accuracy: 0.0984 - val_loss: 2.3027 - val_accuracy: 0.1038\n",
      "Epoch 14/100\n",
      "1407/1407 [==============================] - 14s 10ms/step - loss: 2.3028 - accuracy: 0.0971 - val_loss: 2.3026 - val_accuracy: 0.1010\n",
      "Epoch 15/100\n",
      "1407/1407 [==============================] - 13s 9ms/step - loss: 2.3038 - accuracy: 0.0978 - val_loss: 2.3052 - val_accuracy: 0.0920\n",
      "Epoch 16/100\n",
      "1407/1407 [==============================] - 14s 10ms/step - loss: 2.3035 - accuracy: 0.1000 - val_loss: 2.3030 - val_accuracy: 0.1010\n",
      "Epoch 17/100\n",
      "1407/1407 [==============================] - 14s 10ms/step - loss: 2.3029 - accuracy: 0.0959 - val_loss: 2.3029 - val_accuracy: 0.0972\n"
     ]
    }
   ],
   "source": [
    "history = model.fit(X_train, y_train, epochs=100,\n",
    "                    validation_data=(X_valid, y_valid),callbacks=[callback])"
   ]
  },
  {
   "cell_type": "code",
   "execution_count": 77,
   "metadata": {},
   "outputs": [
    {
     "data": {
      "image/png": "[encoded data removed]",
      "text/plain": [
       "<Figure size 720x504 with 1 Axes>"
      ]
     },
     "metadata": {
      "needs_background": "light"
     },
     "output_type": "display_data"
    }
   ],
   "source": [
    "pd.DataFrame(history.history).plot(figsize=(10, 7))\n",
    "plt.grid(True)\n",
    "\n",
    "plt.show()"
   ]
  },
  {
   "cell_type": "code",
   "execution_count": 78,
   "metadata": {},
   "outputs": [
    {
     "name": "stdout",
     "output_type": "stream",
     "text": [
      "1407/1407 [==============================] - 4s 3ms/step - loss: 2.3026 - accuracy: 0.1003\n"
     ]
    },
    {
     "data": {
      "text/plain": [
       "[2.3026411533355713, 0.10031110793352127]"
      ]
     },
     "execution_count": 78,
     "metadata": {},
     "output_type": "execute_result"
    }
   ],
   "source": [
    "model.evaluate(X_train, y_train)"
   ]
  },
  {
   "cell_type": "code",
   "execution_count": 79,
   "metadata": {},
   "outputs": [
    {
     "name": "stdout",
     "output_type": "stream",
     "text": [
      "157/157 [==============================] - 0s 3ms/step - loss: 2.3029 - accuracy: 0.0972\n"
     ]
    },
    {
     "data": {
      "text/plain": [
       "[2.302860736846924, 0.09719999879598618]"
      ]
     },
     "execution_count": 79,
     "metadata": {},
     "output_type": "execute_result"
    }
   ],
   "source": [
    "model.evaluate(X_valid, y_valid)"
   ]
  },
  {
   "cell_type": "markdown",
   "metadata": {},
   "source": [
    "### Question 2.6 Convolutional Neural Network (15 points)\n",
    "\n",
    "Now, let's define the Convolutional Neural Network. \n",
    "\n",
    "❓ **Question** ❓ Define a CNN that is composed of:\n",
    "- a Conv2D layer with 32 filters, a kernel size of (3, 3), the relu activation function, and a padding equal to `same`\n",
    "- a MaxPooling2D layer with a pool size of (2, 2)\n",
    "- a Conv2D layer with 64 filters, a kernel size of (3, 3), the relu activation function, and a padding equal to `same`\n",
    "- a MaxPooling2D layer with a pool size of (2, 2)\n",
    "- a Conv2D layer with 128 filters, a kernel size of (3, 3), the relu activation function, and a padding equal to `same`\n",
    "- a MaxPooling2D layer with a pool size of (3, 3)\n",
    "- a Flatten layer\n",
    "- a dense function with 120 neurons with the `relu` activation function\n",
    "- a dense function with 60 neurons with the `relu` activation function\n",
    "- a dropout layer (with a rate of 0.5), to regularize the network\n",
    "- a dense function related to your task\n",
    "\n",
    "Estimate the model using the same compilation configuration and report your test accuracy. "
   ]
  },
  {
   "cell_type": "code",
   "execution_count": 14,
   "metadata": {},
   "outputs": [],
   "source": [
    "X_train = X_train.astype('float32')\n",
    "X_valid = X_valid.astype('float32')\n",
    "y_train = y_train.astype('float32')\n",
    "y_valid = y_valid.astype('float32')"
   ]
  },
  {
   "cell_type": "code",
   "execution_count": 7,
   "metadata": {},
   "outputs": [],
   "source": [
    "model = keras.models.Sequential()\n",
    "model.add(tf.keras.layers.Conv2D(32, 3, activation='relu', padding=\"same\"))\n",
    "model.add(tf.keras.layers.MaxPooling2D(pool_size=(2, 2)))\n",
    "model.add(tf.keras.layers.Conv2D(64, 3, activation='relu', padding=\"same\"))\n",
    "model.add(tf.keras.layers.MaxPooling2D(pool_size=(2, 2)))\n",
    "model.add(tf.keras.layers.Conv2D(128, 3, activation='relu', padding=\"same\"))\n",
    "model.add(tf.keras.layers.MaxPooling2D(pool_size=(3, 3)))\n",
    "model.add(keras.layers.Flatten(input_shape=[32, 32,3]))\n",
    "model.add(keras.layers.Dense(120, activation=\"relu\"))\n",
    "model.add(keras.layers.Dense(60, activation=\"relu\"))          \n",
    "model.add(keras.layers.Dropout(rate=0.5))          \n",
    "model.add(keras.layers.Dense(100, activation=\"relu\", kernel_initializer=\"he_normal\", kernel_regularizer=keras.regularizers.l2(0.01)))          "
   ]
  },
  {
   "cell_type": "code",
   "execution_count": 15,
   "metadata": {},
   "outputs": [],
   "source": [
    "model.compile(loss=\"sparse_categorical_crossentropy\",\n",
    "              optimizer=keras.optimizers.Adam(lr=0.001, beta_1=0.9, beta_2=0.999),\n",
    "              metrics=[\"accuracy\"])"
   ]
  },
  {
   "cell_type": "code",
   "execution_count": 16,
   "metadata": {
    "collapsed": true,
    "jupyter": {
     "outputs_hidden": true
    },
    "tags": []
   },
   "outputs": [
    {
     "name": "stdout",
     "output_type": "stream",
     "text": [
      "Epoch 1/100\n",
      "1407/1407 [==============================] - 63s 41ms/step - loss: 12.9871 - accuracy: 0.0650 - val_loss: 4.8370 - val_accuracy: 0.1010\n",
      "Epoch 2/100\n",
      "1407/1407 [==============================] - 57s 40ms/step - loss: 12.8395 - accuracy: 0.0674 - val_loss: 4.7475 - val_accuracy: 0.1010\n",
      "Epoch 3/100\n",
      "1407/1407 [==============================] - 49s 35ms/step - loss: 8.9429 - accuracy: 0.0764 - val_loss: 4.7061 - val_accuracy: 0.1010\n",
      "Epoch 4/100\n",
      "1407/1407 [==============================] - 49s 35ms/step - loss: 8.5524 - accuracy: 0.0776 - val_loss: 4.6801 - val_accuracy: 0.1010\n",
      "Epoch 5/100\n",
      "1407/1407 [==============================] - 51s 36ms/step - loss: 8.3376 - accuracy: 0.0831 - val_loss: 4.6618 - val_accuracy: 0.1010\n",
      "Epoch 6/100\n",
      "1407/1407 [==============================] - 53s 37ms/step - loss: 9.5933 - accuracy: 0.0872 - val_loss: 4.6498 - val_accuracy: 0.1010\n",
      "Epoch 7/100\n",
      "1407/1407 [==============================] - 49s 35ms/step - loss: 10.1942 - accuracy: 0.0919 - val_loss: 14.4815 - val_accuracy: 0.1038\n",
      "Epoch 8/100\n",
      "1407/1407 [==============================] - 48s 34ms/step - loss: 8.3868 - accuracy: 0.0897 - val_loss: 4.6359 - val_accuracy: 0.1010\n",
      "Epoch 9/100\n",
      "1407/1407 [==============================] - 48s 34ms/step - loss: 7.9015 - accuracy: 0.0808 - val_loss: 4.6308 - val_accuracy: 0.1010\n",
      "Epoch 10/100\n",
      "1407/1407 [==============================] - 48s 34ms/step - loss: 7.6746 - accuracy: 0.0822 - val_loss: 4.6265 - val_accuracy: 0.1010\n",
      "Epoch 11/100\n",
      "1407/1407 [==============================] - 48s 34ms/step - loss: 7.2013 - accuracy: 0.0919 - val_loss: 4.6225 - val_accuracy: 0.1010\n",
      "Epoch 12/100\n",
      "1407/1407 [==============================] - 49s 35ms/step - loss: 7.4239 - accuracy: 0.0906 - val_loss: 4.6191 - val_accuracy: 0.1010\n",
      "Epoch 13/100\n",
      "1407/1407 [==============================] - 49s 35ms/step - loss: 7.4272 - accuracy: 0.0927 - val_loss: 4.6174 - val_accuracy: 0.1010\n",
      "Epoch 14/100\n",
      "1407/1407 [==============================] - 49s 35ms/step - loss: 6.4623 - accuracy: 0.0935 - val_loss: 4.6160 - val_accuracy: 0.1010\n",
      "Epoch 15/100\n",
      "1407/1407 [==============================] - 48s 34ms/step - loss: 6.1691 - accuracy: 0.0932 - val_loss: 4.6148 - val_accuracy: 0.1010\n",
      "Epoch 16/100\n",
      "1407/1407 [==============================] - 48s 34ms/step - loss: 6.1077 - accuracy: 0.0937 - val_loss: 4.6138 - val_accuracy: 0.1010\n",
      "Epoch 17/100\n",
      "1407/1407 [==============================] - 57s 41ms/step - loss: 12.4473 - accuracy: 0.0994 - val_loss: 14.4977 - val_accuracy: 0.1010\n",
      "Epoch 18/100\n",
      "1407/1407 [==============================] - 76s 54ms/step - loss: 14.2667 - accuracy: 0.1001 - val_loss: 14.4967 - val_accuracy: 0.1010\n",
      "Epoch 19/100\n",
      "1407/1407 [==============================] - 57s 40ms/step - loss: 14.3656 - accuracy: 0.0998 - val_loss: 14.4958 - val_accuracy: 0.1010\n",
      "Epoch 20/100\n",
      "1407/1407 [==============================] - 51s 36ms/step - loss: 14.4383 - accuracy: 0.1000 - val_loss: 14.4952 - val_accuracy: 0.1010\n",
      "Epoch 21/100\n",
      "1407/1407 [==============================] - 64s 45ms/step - loss: 14.4829 - accuracy: 0.1000 - val_loss: 14.4945 - val_accuracy: 0.1010\n",
      "Epoch 22/100\n",
      "1407/1407 [==============================] - 48s 34ms/step - loss: 14.4846 - accuracy: 0.1000 - val_loss: 14.4941 - val_accuracy: 0.1010\n",
      "Epoch 23/100\n",
      "1407/1407 [==============================] - 47s 33ms/step - loss: 14.4767 - accuracy: 0.0999 - val_loss: 14.4935 - val_accuracy: 0.1010\n",
      "Epoch 24/100\n",
      "1407/1407 [==============================] - 46s 33ms/step - loss: 14.4786 - accuracy: 0.1000 - val_loss: 14.4932 - val_accuracy: 0.1010\n",
      "Epoch 25/100\n",
      "1407/1407 [==============================] - 45s 32ms/step - loss: 14.4612 - accuracy: 0.0998 - val_loss: 14.4928 - val_accuracy: 0.1010\n",
      "Epoch 26/100\n",
      "1407/1407 [==============================] - 49s 35ms/step - loss: 14.4405 - accuracy: 0.0999 - val_loss: 14.4923 - val_accuracy: 0.1010\n",
      "Epoch 27/100\n",
      "1407/1407 [==============================] - 49s 35ms/step - loss: 14.3951 - accuracy: 0.0998 - val_loss: 14.4919 - val_accuracy: 0.1010\n",
      "Epoch 28/100\n",
      "1407/1407 [==============================] - 48s 34ms/step - loss: 14.2368 - accuracy: 0.1000 - val_loss: 14.4915 - val_accuracy: 0.1010\n",
      "Epoch 29/100\n",
      "1407/1407 [==============================] - 48s 34ms/step - loss: 14.4153 - accuracy: 0.0998 - val_loss: 14.4915 - val_accuracy: 0.1010\n",
      "Epoch 30/100\n",
      "1407/1407 [==============================] - 49s 35ms/step - loss: 14.4199 - accuracy: 0.1000 - val_loss: 14.4913 - val_accuracy: 0.1010\n",
      "Epoch 31/100\n",
      "1407/1407 [==============================] - 49s 35ms/step - loss: 14.4299 - accuracy: 0.0998 - val_loss: 14.4910 - val_accuracy: 0.1010\n",
      "Epoch 32/100\n",
      "1407/1407 [==============================] - 49s 35ms/step - loss: 8.6290 - accuracy: 0.0998 - val_loss: 4.6060 - val_accuracy: 0.1010\n",
      "Epoch 33/100\n",
      "1407/1407 [==============================] - 49s 34ms/step - loss: 4.6094 - accuracy: 0.0999 - val_loss: 4.6059 - val_accuracy: 0.1010\n",
      "Epoch 34/100\n",
      "1407/1407 [==============================] - 51s 36ms/step - loss: 4.6074 - accuracy: 0.0999 - val_loss: 4.6057 - val_accuracy: 0.1010\n",
      "Epoch 35/100\n",
      "1407/1407 [==============================] - 49s 35ms/step - loss: 4.6071 - accuracy: 0.0999 - val_loss: 4.6057 - val_accuracy: 0.1010\n",
      "Epoch 36/100\n",
      "1407/1407 [==============================] - 49s 35ms/step - loss: 4.6059 - accuracy: 0.0999 - val_loss: 4.6056 - val_accuracy: 0.1010\n",
      "Epoch 37/100\n",
      "1407/1407 [==============================] - 49s 35ms/step - loss: 4.6055 - accuracy: 0.0999 - val_loss: 4.6055 - val_accuracy: 0.1010\n",
      "Epoch 38/100\n",
      "1407/1407 [==============================] - 50s 35ms/step - loss: 4.6055 - accuracy: 0.0999 - val_loss: 4.6055 - val_accuracy: 0.1010\n",
      "Epoch 39/100\n",
      "1407/1407 [==============================] - 50s 36ms/step - loss: 4.6055 - accuracy: 0.0999 - val_loss: 4.6054 - val_accuracy: 0.1010\n",
      "Epoch 40/100\n",
      "1407/1407 [==============================] - 50s 36ms/step - loss: 4.6054 - accuracy: 0.0999 - val_loss: 4.6054 - val_accuracy: 0.1010\n",
      "Epoch 41/100\n",
      "1407/1407 [==============================] - 50s 35ms/step - loss: 4.6054 - accuracy: 0.0999 - val_loss: 4.6053 - val_accuracy: 0.1010\n",
      "Epoch 42/100\n",
      "1407/1407 [==============================] - 52s 37ms/step - loss: 4.6053 - accuracy: 0.0999 - val_loss: 4.6053 - val_accuracy: 0.1010\n",
      "Epoch 43/100\n",
      "1407/1407 [==============================] - 50s 36ms/step - loss: 4.6053 - accuracy: 0.0999 - val_loss: 4.6052 - val_accuracy: 0.1010\n",
      "Epoch 44/100\n",
      "1407/1407 [==============================] - 50s 35ms/step - loss: 4.6053 - accuracy: 0.0999 - val_loss: 4.6052 - val_accuracy: 0.1010\n",
      "Epoch 45/100\n",
      "1407/1407 [==============================] - 50s 35ms/step - loss: 4.6051 - accuracy: 0.0999 - val_loss: 4.6052 - val_accuracy: 0.1010\n",
      "Epoch 46/100\n",
      "1407/1407 [==============================] - 53s 38ms/step - loss: 4.6051 - accuracy: 0.0999 - val_loss: 4.6052 - val_accuracy: 0.1010\n",
      "Epoch 47/100\n",
      "1407/1407 [==============================] - 53s 38ms/step - loss: 4.6051 - accuracy: 0.0999 - val_loss: 4.6052 - val_accuracy: 0.1010\n",
      "Epoch 48/100\n",
      "1407/1407 [==============================] - 50s 35ms/step - loss: 4.6051 - accuracy: 0.0999 - val_loss: 4.6052 - val_accuracy: 0.1010\n",
      "Epoch 49/100\n",
      "1407/1407 [==============================] - 50s 35ms/step - loss: 4.6051 - accuracy: 0.0999 - val_loss: 4.6052 - val_accuracy: 0.1010\n",
      "Epoch 50/100\n",
      "1407/1407 [==============================] - 49s 35ms/step - loss: 4.6051 - accuracy: 0.0999 - val_loss: 4.6052 - val_accuracy: 0.1010\n",
      "Epoch 51/100\n",
      "1407/1407 [==============================] - 50s 35ms/step - loss: 4.6051 - accuracy: 0.0999 - val_loss: 4.6052 - val_accuracy: 0.1010\n",
      "Epoch 52/100\n",
      "1407/1407 [==============================] - 50s 35ms/step - loss: 4.6051 - accuracy: 0.0999 - val_loss: 4.6052 - val_accuracy: 0.1010\n",
      "Epoch 53/100\n",
      "1407/1407 [==============================] - 51s 36ms/step - loss: 4.6051 - accuracy: 0.0999 - val_loss: 4.6052 - val_accuracy: 0.1010\n",
      "Epoch 54/100\n",
      "1407/1407 [==============================] - 52s 37ms/step - loss: 4.6051 - accuracy: 0.0999 - val_loss: 4.6052 - val_accuracy: 0.1010\n",
      "Epoch 55/100\n",
      "1407/1407 [==============================] - 52s 37ms/step - loss: 4.6051 - accuracy: 0.0999 - val_loss: 4.6052 - val_accuracy: 0.1010\n",
      "Epoch 56/100\n",
      "1407/1407 [==============================] - 53s 38ms/step - loss: 4.6051 - accuracy: 0.0999 - val_loss: 4.6052 - val_accuracy: 0.1010\n",
      "Epoch 57/100\n",
      "1407/1407 [==============================] - 60s 43ms/step - loss: 4.6051 - accuracy: 0.0999 - val_loss: 4.6052 - val_accuracy: 0.1010\n",
      "Epoch 58/100\n",
      "1407/1407 [==============================] - 52s 37ms/step - loss: 4.6051 - accuracy: 0.0999 - val_loss: 4.6052 - val_accuracy: 0.1010\n",
      "Epoch 59/100\n",
      "1407/1407 [==============================] - 49s 35ms/step - loss: 4.6051 - accuracy: 0.0999 - val_loss: 4.6052 - val_accuracy: 0.1010\n",
      "Epoch 60/100\n",
      "1407/1407 [==============================] - 50s 36ms/step - loss: 4.6051 - accuracy: 0.0999 - val_loss: 4.6052 - val_accuracy: 0.1010\n",
      "Epoch 61/100\n",
      "1407/1407 [==============================] - 49s 35ms/step - loss: 4.6051 - accuracy: 0.0999 - val_loss: 4.6052 - val_accuracy: 0.1010\n",
      "Epoch 62/100\n",
      "1407/1407 [==============================] - 49s 35ms/step - loss: 4.6051 - accuracy: 0.0999 - val_loss: 4.6052 - val_accuracy: 0.1010\n",
      "Epoch 63/100\n",
      "1407/1407 [==============================] - 49s 35ms/step - loss: 4.6051 - accuracy: 0.0999 - val_loss: 4.6052 - val_accuracy: 0.1010\n",
      "Epoch 64/100\n",
      "1407/1407 [==============================] - 49s 35ms/step - loss: 4.6051 - accuracy: 0.0999 - val_loss: 4.6052 - val_accuracy: 0.1010\n",
      "Epoch 65/100\n",
      "1407/1407 [==============================] - 49s 35ms/step - loss: 4.6051 - accuracy: 0.0999 - val_loss: 4.6052 - val_accuracy: 0.1010\n",
      "Epoch 66/100\n",
      "1407/1407 [==============================] - 49s 35ms/step - loss: 4.6051 - accuracy: 0.0999 - val_loss: 4.6052 - val_accuracy: 0.1010\n",
      "Epoch 67/100\n",
      "1407/1407 [==============================] - 49s 35ms/step - loss: 4.6051 - accuracy: 0.0999 - val_loss: 4.6052 - val_accuracy: 0.1010\n",
      "Epoch 68/100\n",
      "1407/1407 [==============================] - 49s 35ms/step - loss: 4.6051 - accuracy: 0.0999 - val_loss: 4.6052 - val_accuracy: 0.1010\n",
      "Epoch 69/100\n",
      "1407/1407 [==============================] - 49s 34ms/step - loss: 4.6051 - accuracy: 0.0999 - val_loss: 4.6052 - val_accuracy: 0.1010\n",
      "Epoch 70/100\n",
      "1407/1407 [==============================] - 49s 35ms/step - loss: 4.6051 - accuracy: 0.0999 - val_loss: 4.6052 - val_accuracy: 0.1010\n",
      "Epoch 71/100\n",
      "1407/1407 [==============================] - 49s 35ms/step - loss: 4.6051 - accuracy: 0.0999 - val_loss: 4.6052 - val_accuracy: 0.1010\n",
      "Epoch 72/100\n",
      "1407/1407 [==============================] - 49s 35ms/step - loss: 4.6051 - accuracy: 0.0999 - val_loss: 4.6052 - val_accuracy: 0.1010\n",
      "Epoch 73/100\n",
      "1407/1407 [==============================] - 49s 35ms/step - loss: 4.6051 - accuracy: 0.0999 - val_loss: 4.6052 - val_accuracy: 0.1010\n",
      "Epoch 74/100\n",
      "1407/1407 [==============================] - 49s 35ms/step - loss: 4.6051 - accuracy: 0.0999 - val_loss: 4.6052 - val_accuracy: 0.1010\n",
      "Epoch 75/100\n",
      "1407/1407 [==============================] - 49s 34ms/step - loss: 4.6051 - accuracy: 0.0999 - val_loss: 4.6052 - val_accuracy: 0.1010\n",
      "Epoch 76/100\n",
      "1407/1407 [==============================] - 48s 34ms/step - loss: 4.6051 - accuracy: 0.0999 - val_loss: 4.6052 - val_accuracy: 0.1010\n",
      "Epoch 77/100\n",
      "1407/1407 [==============================] - 49s 35ms/step - loss: 4.6051 - accuracy: 0.0999 - val_loss: 4.6052 - val_accuracy: 0.1010\n",
      "Epoch 78/100\n",
      "1407/1407 [==============================] - 49s 35ms/step - loss: 4.6051 - accuracy: 0.0999 - val_loss: 4.6052 - val_accuracy: 0.1010\n",
      "Epoch 79/100\n",
      "1407/1407 [==============================] - 48s 34ms/step - loss: 4.6051 - accuracy: 0.0999 - val_loss: 4.6052 - val_accuracy: 0.1010\n",
      "Epoch 80/100\n",
      "1407/1407 [==============================] - 49s 35ms/step - loss: 4.6051 - accuracy: 0.0999 - val_loss: 4.6052 - val_accuracy: 0.1010\n",
      "Epoch 81/100\n",
      "1407/1407 [==============================] - 49s 35ms/step - loss: 4.6051 - accuracy: 0.0999 - val_loss: 4.6052 - val_accuracy: 0.1010\n",
      "Epoch 82/100\n",
      "1407/1407 [==============================] - 49s 35ms/step - loss: 4.6051 - accuracy: 0.0999 - val_loss: 4.6052 - val_accuracy: 0.1010\n",
      "Epoch 83/100\n",
      "1407/1407 [==============================] - 49s 34ms/step - loss: 4.6051 - accuracy: 0.0999 - val_loss: 4.6052 - val_accuracy: 0.1010\n",
      "Epoch 84/100\n",
      "1407/1407 [==============================] - 49s 35ms/step - loss: 4.6051 - accuracy: 0.0999 - val_loss: 4.6052 - val_accuracy: 0.1010\n",
      "Epoch 85/100\n",
      "1407/1407 [==============================] - 48s 34ms/step - loss: 4.6051 - accuracy: 0.0999 - val_loss: 4.6052 - val_accuracy: 0.1010\n",
      "Epoch 86/100\n",
      "1407/1407 [==============================] - 48s 34ms/step - loss: 4.6051 - accuracy: 0.0999 - val_loss: 4.6052 - val_accuracy: 0.1010\n",
      "Epoch 87/100\n",
      "1407/1407 [==============================] - 48s 34ms/step - loss: 4.6051 - accuracy: 0.0999 - val_loss: 4.6052 - val_accuracy: 0.1010\n",
      "Epoch 88/100\n",
      "1407/1407 [==============================] - 48s 34ms/step - loss: 4.6051 - accuracy: 0.0999 - val_loss: 4.6052 - val_accuracy: 0.1010\n",
      "Epoch 89/100\n",
      "1407/1407 [==============================] - 49s 35ms/step - loss: 4.6051 - accuracy: 0.0999 - val_loss: 4.6052 - val_accuracy: 0.1010\n",
      "Epoch 90/100\n",
      "1407/1407 [==============================] - 49s 35ms/step - loss: 4.6051 - accuracy: 0.0999 - val_loss: 4.6052 - val_accuracy: 0.1010\n",
      "Epoch 91/100\n",
      "1407/1407 [==============================] - 54s 38ms/step - loss: 4.6051 - accuracy: 0.0999 - val_loss: 4.6052 - val_accuracy: 0.1010\n",
      "Epoch 92/100\n",
      "1407/1407 [==============================] - 49s 35ms/step - loss: 4.6051 - accuracy: 0.0999 - val_loss: 4.6052 - val_accuracy: 0.1010\n",
      "Epoch 93/100\n",
      "1407/1407 [==============================] - 50s 36ms/step - loss: 4.6051 - accuracy: 0.0999 - val_loss: 4.6052 - val_accuracy: 0.1010\n",
      "Epoch 94/100\n",
      "1407/1407 [==============================] - 50s 35ms/step - loss: 4.6051 - accuracy: 0.0999 - val_loss: 4.6052 - val_accuracy: 0.1010\n",
      "Epoch 95/100\n",
      "1407/1407 [==============================] - 48s 34ms/step - loss: 4.6051 - accuracy: 0.0999 - val_loss: 4.6052 - val_accuracy: 0.1010\n",
      "Epoch 96/100\n",
      "1407/1407 [==============================] - 49s 35ms/step - loss: 4.6051 - accuracy: 0.0999 - val_loss: 4.6052 - val_accuracy: 0.1010\n",
      "Epoch 97/100\n",
      "1407/1407 [==============================] - 49s 35ms/step - loss: 4.6051 - accuracy: 0.0999 - val_loss: 4.6052 - val_accuracy: 0.1010\n",
      "Epoch 98/100\n",
      "1407/1407 [==============================] - 49s 35ms/step - loss: 4.6051 - accuracy: 0.0999 - val_loss: 4.6052 - val_accuracy: 0.1010\n",
      "Epoch 99/100\n",
      "1407/1407 [==============================] - 49s 35ms/step - loss: 4.6051 - accuracy: 0.0999 - val_loss: 4.6052 - val_accuracy: 0.1010\n",
      "Epoch 100/100\n",
      "1407/1407 [==============================] - 49s 35ms/step - loss: 4.6051 - accuracy: 0.0999 - val_loss: 4.6052 - val_accuracy: 0.1010\n"
     ]
    }
   ],
   "source": [
    "history = model.fit(X_train, y_train, epochs=100,\n",
    "                    validation_data=(X_valid, y_valid))"
   ]
  },
  {
   "cell_type": "code",
   "execution_count": 17,
   "metadata": {},
   "outputs": [
    {
     "data": {
      "image/png": "[encoded data removed]",
      "text/plain": [
       "<Figure size 720x504 with 1 Axes>"
      ]
     },
     "metadata": {
      "needs_background": "light"
     },
     "output_type": "display_data"
    }
   ],
   "source": [
    "pd.DataFrame(history.history).plot(figsize=(10, 7))\n",
    "plt.grid(True)\n",
    "\n",
    "plt.show()"
   ]
  },
  {
   "cell_type": "code",
   "execution_count": 18,
   "metadata": {},
   "outputs": [
    {
     "name": "stdout",
     "output_type": "stream",
     "text": [
      "1407/1407 [==============================] - 17s 12ms/step - loss: 4.6051 - accuracy: 0.0999\n"
     ]
    },
    {
     "data": {
      "text/plain": [
       "[4.605125427246094, 0.0998888909816742]"
      ]
     },
     "execution_count": 18,
     "metadata": {},
     "output_type": "execute_result"
    }
   ],
   "source": [
    "model.evaluate(X_train, y_train)"
   ]
  },
  {
   "cell_type": "code",
   "execution_count": 19,
   "metadata": {},
   "outputs": [
    {
     "name": "stdout",
     "output_type": "stream",
     "text": [
      "157/157 [==============================] - 2s 13ms/step - loss: 4.6052 - accuracy: 0.1010\n"
     ]
    },
    {
     "data": {
      "text/plain": [
       "[4.605165004730225, 0.10100000351667404]"
      ]
     },
     "execution_count": 19,
     "metadata": {},
     "output_type": "execute_result"
    }
   ],
   "source": [
    "model.evaluate(X_valid, y_valid)"
   ]
  },
  {
   "cell_type": "markdown",
   "metadata": {
    "tags": []
   },
   "source": [
    "### Question 2.7 Transfer learning (15 points)\n",
    "\n",
    "In this question, we will use the [VGG-16 Neural Network](https://neurohive.io/en/popular-networks/vgg16/), a well-known architecture that has been trained on ImageNet which is a very large database of images of different categories. In a nutshell, this architecture has already learnt kernels which are supposed to be good not only for the task it has been train on but maybe for other tasks. \n",
    "\n",
    "The idea is that first layers are not specialized for the particular task it has been trained on; only the last ones are. Therefore, we will load the existing VGG16 network, remove the last fully connected layers, replace them by new connected layers (whose weights are randomly set), and train these last layers on a specific classification task - here, separate types of flower. The underlying idea is that the first convolutional layers of VGG-16, that has already been trained, corresponds to filters that are able to extract meaning features from images. And you will only learn the last layers for your particular problem.\n",
    "\n",
    "❓ **Question** ❓ Write a first function `load_model()` that loads the pretrained VGG-16 model from `tensorflow.keras.applications.vgg16`. Especially, look at the [documentation](https://www.tensorflow.org/api_docs/python/tf/keras/applications/VGG16) to load the model where:\n",
    "- the `weights` have been learnt on `imagenet`\n",
    "- the `input_shape` corresponds to the input shape of any of your images - you have to resize them in case they are not of the same size\n",
    "- the `include_top` argument is set to `False` in order not to load the fully-connected layers of the VGG-16 without the last layer which was specifically trained on `imagenet`\n",
    "\n",
    "Write a function that takes the previous model as input the set the girst layers to be non-trainable, by applying `model.trainable = False`. Then check-out the summary of the model to see that now, the parameters are `non-trainable`. Then write a function that adds flattening and dense layers after the first convolutional layers. You can define each layer (or group of layers) separately and concatenate them using the classic `layers.Sequential()` like below: \n",
    "\n",
    "```\n",
    "model = tf.keras.Sequential([\n",
    "  base_model,\n",
    "  flattening_layer,\n",
    "  dense_layer,\n",
    "  prediction_layer\n",
    "])\n",
    "```\n",
    "\n",
    "Replicate the above steps by adding a flattening and two dense layers (the first with 500 neurons) to the previous VGG-16 model.\n",
    "\n",
    "Estimate the model using the same compilation configuration and report the test accuracy. "
   ]
  },
  {
   "cell_type": "code",
   "execution_count": 20,
   "metadata": {},
   "outputs": [],
   "source": [
    "def load_model():\n",
    "    model_vgg16 = tf.keras.applications.vgg16.VGG16(\n",
    "      include_top=False,\n",
    "      weights='imagenet',\n",
    "      input_tensor=None,\n",
    "      input_shape=[32,32,3],\n",
    "      pooling=None,\n",
    "      classes=1000,\n",
    "      classifier_activation='softmax'\n",
    "    )\n",
    "    return model_vgg16"
   ]
  },
  {
   "cell_type": "code",
   "execution_count": 21,
   "metadata": {},
   "outputs": [],
   "source": [
    "def train(): \n",
    "    model_vgg16 = load_model()\n",
    "    for lyr in model_vgg16.layers:\n",
    "        lyr.trainable = False\n",
    "    model_vgg16.summary()\n",
    "\n",
    "    return model_vgg16"
   ]
  },
  {
   "cell_type": "code",
   "execution_count": 22,
   "metadata": {},
   "outputs": [],
   "source": [
    "def add():\n",
    "    model_vgg16 = train()\n",
    "    model = tf.keras.Sequential([\n",
    "    vgg16,\n",
    "    keras.layers.Flatten(input_shape=[32,32,3]),\n",
    "    keras.layers.Dense(500, activation=\"relu\"),\n",
    "    keras.layers.Dense(100, activation=\"relu\") \n",
    "    ])\n",
    "\n",
    "    return model"
   ]
  },
  {
   "cell_type": "code",
   "execution_count": null,
   "metadata": {},
   "outputs": [],
   "source": [
    "model= add()"
   ]
  },
  {
   "cell_type": "code",
   "execution_count": null,
   "metadata": {},
   "outputs": [],
   "source": [
    "model.compile(loss=\"sparse_categorical_crossentropy\",\n",
    "          optimizer = keras.optimizers.Adam(lr=0.001, beta_1=0.9, beta_2=0.999),\n",
    "          metrics=[\"accuracy\"])"
   ]
  },
  {
   "cell_type": "code",
   "execution_count": 23,
   "metadata": {
    "collapsed": true,
    "jupyter": {
     "outputs_hidden": true
    },
    "tags": []
   },
   "outputs": [
    {
     "name": "stdout",
     "output_type": "stream",
     "text": [
      "Downloading data from https://storage.googleapis.com/tensorflow/keras-applications/vgg16/vgg16_weights_tf_dim_ordering_tf_kernels_notop.h5\n",
      "58892288/58889256 [==============================] - 2s 0us/step\n",
      "58900480/58889256 [==============================] - 2s 0us/step\n",
      "Model: \"vgg16\"\n",
      "_________________________________________________________________\n",
      " Layer (type)                Output Shape              Param #   \n",
      "=================================================================\n",
      " input_1 (InputLayer)        [(None, 32, 32, 3)]       0         \n",
      "                                                                 \n",
      " block1_conv1 (Conv2D)       (None, 32, 32, 64)        1792      \n",
      "                                                                 \n",
      " block1_conv2 (Conv2D)       (None, 32, 32, 64)        36928     \n",
      "                                                                 \n",
      " block1_pool (MaxPooling2D)  (None, 16, 16, 64)        0         \n",
      "                                                                 \n",
      " block2_conv1 (Conv2D)       (None, 16, 16, 128)       73856     \n",
      "                                                                 \n",
      " block2_conv2 (Conv2D)       (None, 16, 16, 128)       147584    \n",
      "                                                                 \n",
      " block2_pool (MaxPooling2D)  (None, 8, 8, 128)         0         \n",
      "                                                                 \n",
      " block3_conv1 (Conv2D)       (None, 8, 8, 256)         295168    \n",
      "                                                                 \n",
      " block3_conv2 (Conv2D)       (None, 8, 8, 256)         590080    \n",
      "                                                                 \n",
      " block3_conv3 (Conv2D)       (None, 8, 8, 256)         590080    \n",
      "                                                                 \n",
      " block3_pool (MaxPooling2D)  (None, 4, 4, 256)         0         \n",
      "                                                                 \n",
      " block4_conv1 (Conv2D)       (None, 4, 4, 512)         1180160   \n",
      "                                                                 \n",
      " block4_conv2 (Conv2D)       (None, 4, 4, 512)         2359808   \n",
      "                                                                 \n",
      " block4_conv3 (Conv2D)       (None, 4, 4, 512)         2359808   \n",
      "                                                                 \n",
      " block4_pool (MaxPooling2D)  (None, 2, 2, 512)         0         \n",
      "                                                                 \n",
      " block5_conv1 (Conv2D)       (None, 2, 2, 512)         2359808   \n",
      "                                                                 \n",
      " block5_conv2 (Conv2D)       (None, 2, 2, 512)         2359808   \n",
      "                                                                 \n",
      " block5_conv3 (Conv2D)       (None, 2, 2, 512)         2359808   \n",
      "                                                                 \n",
      " block5_pool (MaxPooling2D)  (None, 1, 1, 512)         0         \n",
      "                                                                 \n",
      "=================================================================\n",
      "Total params: 14,714,688\n",
      "Trainable params: 0\n",
      "Non-trainable params: 14,714,688\n",
      "_________________________________________________________________\n"
     ]
    },
    {
     "name": "stderr",
     "output_type": "stream",
     "text": [
      "C:\\Users\\anton\\anaconda3\\lib\\site-packages\\keras\\optimizer_v2\\adam.py:105: UserWarning: The `lr` argument is deprecated, use `learning_rate` instead.\n",
      "  super(Adam, self).__init__(name, **kwargs)\n"
     ]
    },
    {
     "name": "stdout",
     "output_type": "stream",
     "text": [
      "Epoch 1/100\n",
      "1407/1407 [==============================] - 236s 166ms/step - loss: 4.7923 - accuracy: 0.0996 - val_loss: 4.6075 - val_accuracy: 0.1010\n",
      "Epoch 2/100\n",
      "1407/1407 [==============================] - 241s 171ms/step - loss: 4.6063 - accuracy: 0.0999 - val_loss: 4.6075 - val_accuracy: 0.1010\n",
      "Epoch 3/100\n",
      "1407/1407 [==============================] - 232s 165ms/step - loss: 4.6053 - accuracy: 0.0999 - val_loss: 4.6075 - val_accuracy: 0.1010\n",
      "Epoch 4/100\n",
      "1407/1407 [==============================] - 231s 164ms/step - loss: 4.6053 - accuracy: 0.0999 - val_loss: 4.6075 - val_accuracy: 0.1010\n",
      "Epoch 5/100\n",
      "1407/1407 [==============================] - 231s 164ms/step - loss: 4.6053 - accuracy: 0.0999 - val_loss: 4.6075 - val_accuracy: 0.1010\n",
      "Epoch 6/100\n",
      "1407/1407 [==============================] - 232s 165ms/step - loss: 4.6053 - accuracy: 0.0999 - val_loss: 4.6075 - val_accuracy: 0.1010\n",
      "Epoch 7/100\n",
      "1407/1407 [==============================] - 235s 167ms/step - loss: 4.6053 - accuracy: 0.0999 - val_loss: 4.6075 - val_accuracy: 0.1010\n",
      "Epoch 8/100\n",
      "1407/1407 [==============================] - 233s 165ms/step - loss: 4.6053 - accuracy: 0.0999 - val_loss: 4.6075 - val_accuracy: 0.1010\n",
      "Epoch 9/100\n",
      "1407/1407 [==============================] - 234s 166ms/step - loss: 4.6053 - accuracy: 0.0999 - val_loss: 4.6075 - val_accuracy: 0.1010\n",
      "Epoch 10/100\n",
      "1407/1407 [==============================] - 232s 165ms/step - loss: 4.6053 - accuracy: 0.0999 - val_loss: 4.6075 - val_accuracy: 0.1010\n",
      "Epoch 11/100\n",
      "1407/1407 [==============================] - 233s 166ms/step - loss: 4.6053 - accuracy: 0.0999 - val_loss: 4.6075 - val_accuracy: 0.1010\n",
      "Epoch 12/100\n",
      "1407/1407 [==============================] - 232s 165ms/step - loss: 4.6053 - accuracy: 0.0999 - val_loss: 4.6075 - val_accuracy: 0.1010\n",
      "Epoch 13/100\n",
      "1407/1407 [==============================] - 233s 166ms/step - loss: 4.6053 - accuracy: 0.0999 - val_loss: 4.6075 - val_accuracy: 0.1010\n",
      "Epoch 14/100\n",
      "1407/1407 [==============================] - 233s 166ms/step - loss: 4.6053 - accuracy: 0.0999 - val_loss: 4.6075 - val_accuracy: 0.1010\n",
      "Epoch 15/100\n",
      "1407/1407 [==============================] - 235s 167ms/step - loss: 4.6053 - accuracy: 0.0999 - val_loss: 4.6075 - val_accuracy: 0.1010\n",
      "Epoch 16/100\n",
      "1407/1407 [==============================] - 235s 167ms/step - loss: 4.6053 - accuracy: 0.0999 - val_loss: 4.6075 - val_accuracy: 0.1010\n",
      "Epoch 17/100\n",
      "1407/1407 [==============================] - 238s 169ms/step - loss: 4.6053 - accuracy: 0.0999 - val_loss: 4.6075 - val_accuracy: 0.1010\n",
      "Epoch 18/100\n",
      "1407/1407 [==============================] - 245s 174ms/step - loss: 4.6053 - accuracy: 0.0999 - val_loss: 4.6075 - val_accuracy: 0.1010\n",
      "Epoch 19/100\n",
      "1407/1407 [==============================] - 271s 193ms/step - loss: 4.6053 - accuracy: 0.0999 - val_loss: 4.6075 - val_accuracy: 0.1010\n",
      "Epoch 20/100\n",
      "1407/1407 [==============================] - 257s 183ms/step - loss: 4.6053 - accuracy: 0.0999 - val_loss: 4.6075 - val_accuracy: 0.1010\n",
      "Epoch 21/100\n",
      "1407/1407 [==============================] - 256s 182ms/step - loss: 4.6053 - accuracy: 0.0999 - val_loss: 4.6075 - val_accuracy: 0.1010\n",
      "Epoch 22/100\n",
      "1407/1407 [==============================] - 249s 177ms/step - loss: 4.6053 - accuracy: 0.0999 - val_loss: 4.6075 - val_accuracy: 0.1010\n",
      "Epoch 23/100\n",
      "1407/1407 [==============================] - 243s 173ms/step - loss: 4.6053 - accuracy: 0.0999 - val_loss: 4.6075 - val_accuracy: 0.1010\n",
      "Epoch 24/100\n",
      "1407/1407 [==============================] - 244s 174ms/step - loss: 4.6053 - accuracy: 0.0999 - val_loss: 4.6075 - val_accuracy: 0.1010\n",
      "Epoch 25/100\n",
      "1407/1407 [==============================] - 234s 166ms/step - loss: 4.6053 - accuracy: 0.0999 - val_loss: 4.6075 - val_accuracy: 0.1010\n",
      "Epoch 26/100\n",
      "1407/1407 [==============================] - 242s 172ms/step - loss: 4.6053 - accuracy: 0.0999 - val_loss: 4.6075 - val_accuracy: 0.1010\n",
      "Epoch 27/100\n",
      "1407/1407 [==============================] - 247s 176ms/step - loss: 4.6053 - accuracy: 0.0999 - val_loss: 4.6075 - val_accuracy: 0.1010\n",
      "Epoch 28/100\n",
      "1407/1407 [==============================] - 244s 174ms/step - loss: 4.6053 - accuracy: 0.0999 - val_loss: 4.6075 - val_accuracy: 0.1010\n",
      "Epoch 29/100\n",
      "1407/1407 [==============================] - 240s 171ms/step - loss: 4.6053 - accuracy: 0.0999 - val_loss: 4.6075 - val_accuracy: 0.1010\n",
      "Epoch 30/100\n",
      "1407/1407 [==============================] - 236s 168ms/step - loss: 4.6053 - accuracy: 0.0999 - val_loss: 4.6075 - val_accuracy: 0.1010\n",
      "Epoch 31/100\n",
      "1407/1407 [==============================] - 242s 172ms/step - loss: 4.6053 - accuracy: 0.0999 - val_loss: 4.6075 - val_accuracy: 0.1010\n",
      "Epoch 32/100\n",
      "1407/1407 [==============================] - 242s 172ms/step - loss: 4.6053 - accuracy: 0.0999 - val_loss: 4.6075 - val_accuracy: 0.1010\n",
      "Epoch 33/100\n",
      "1407/1407 [==============================] - 239s 170ms/step - loss: 4.6053 - accuracy: 0.0999 - val_loss: 4.6075 - val_accuracy: 0.1010\n",
      "Epoch 34/100\n",
      "1407/1407 [==============================] - 234s 166ms/step - loss: 4.6053 - accuracy: 0.0999 - val_loss: 4.6075 - val_accuracy: 0.1010\n",
      "Epoch 35/100\n",
      "1407/1407 [==============================] - 239s 170ms/step - loss: 4.6053 - accuracy: 0.0999 - val_loss: 4.6075 - val_accuracy: 0.1010\n",
      "Epoch 36/100\n",
      "1407/1407 [==============================] - 243s 173ms/step - loss: 4.6053 - accuracy: 0.0999 - val_loss: 4.6075 - val_accuracy: 0.1010\n",
      "Epoch 37/100\n",
      "1407/1407 [==============================] - 234s 167ms/step - loss: 4.6053 - accuracy: 0.0999 - val_loss: 4.6075 - val_accuracy: 0.1010\n",
      "Epoch 38/100\n",
      "1407/1407 [==============================] - 227s 162ms/step - loss: 4.6053 - accuracy: 0.0999 - val_loss: 4.6075 - val_accuracy: 0.1010\n",
      "Epoch 39/100\n",
      "1407/1407 [==============================] - 228s 162ms/step - loss: 4.6053 - accuracy: 0.0999 - val_loss: 4.6075 - val_accuracy: 0.1010\n",
      "Epoch 40/100\n",
      "1407/1407 [==============================] - 226s 161ms/step - loss: 4.6053 - accuracy: 0.0999 - val_loss: 4.6075 - val_accuracy: 0.1010\n",
      "Epoch 41/100\n",
      "1407/1407 [==============================] - 229s 162ms/step - loss: 4.6053 - accuracy: 0.0999 - val_loss: 4.6075 - val_accuracy: 0.1010\n",
      "Epoch 42/100\n",
      "1407/1407 [==============================] - 228s 162ms/step - loss: 4.6053 - accuracy: 0.0999 - val_loss: 4.6075 - val_accuracy: 0.1010\n",
      "Epoch 43/100\n",
      "1407/1407 [==============================] - 226s 160ms/step - loss: 4.6053 - accuracy: 0.0999 - val_loss: 4.6075 - val_accuracy: 0.1010\n",
      "Epoch 44/100\n",
      "1407/1407 [==============================] - 226s 161ms/step - loss: 4.6053 - accuracy: 0.0999 - val_loss: 4.6075 - val_accuracy: 0.1010\n",
      "Epoch 45/100\n",
      "1407/1407 [==============================] - 226s 161ms/step - loss: 4.6053 - accuracy: 0.0999 - val_loss: 4.6075 - val_accuracy: 0.1010\n",
      "Epoch 46/100\n",
      "1407/1407 [==============================] - 225s 160ms/step - loss: 4.6053 - accuracy: 0.0999 - val_loss: 4.6075 - val_accuracy: 0.1010\n",
      "Epoch 47/100\n",
      "1407/1407 [==============================] - 229s 163ms/step - loss: 4.6053 - accuracy: 0.0999 - val_loss: 4.6075 - val_accuracy: 0.1010\n",
      "Epoch 48/100\n",
      "1407/1407 [==============================] - 229s 163ms/step - loss: 4.6053 - accuracy: 0.0999 - val_loss: 4.6075 - val_accuracy: 0.1010\n",
      "Epoch 49/100\n",
      "1407/1407 [==============================] - 226s 161ms/step - loss: 4.6053 - accuracy: 0.0999 - val_loss: 4.6075 - val_accuracy: 0.1010\n",
      "Epoch 50/100\n",
      "1407/1407 [==============================] - 226s 161ms/step - loss: 4.6053 - accuracy: 0.0999 - val_loss: 4.6075 - val_accuracy: 0.1010\n",
      "Epoch 51/100\n",
      "1407/1407 [==============================] - 227s 161ms/step - loss: 4.6053 - accuracy: 0.0999 - val_loss: 4.6075 - val_accuracy: 0.1010\n",
      "Epoch 52/100\n",
      "1407/1407 [==============================] - 244s 173ms/step - loss: 4.6053 - accuracy: 0.0999 - val_loss: 4.6075 - val_accuracy: 0.1010\n",
      "Epoch 53/100\n",
      "1407/1407 [==============================] - 263s 187ms/step - loss: 4.6053 - accuracy: 0.0999 - val_loss: 4.6075 - val_accuracy: 0.1010\n",
      "Epoch 54/100\n",
      "1407/1407 [==============================] - 241s 171ms/step - loss: 4.6053 - accuracy: 0.0999 - val_loss: 4.6075 - val_accuracy: 0.1010\n",
      "Epoch 55/100\n",
      "1407/1407 [==============================] - 235s 167ms/step - loss: 4.6053 - accuracy: 0.0999 - val_loss: 4.6075 - val_accuracy: 0.1010\n",
      "Epoch 56/100\n",
      "1407/1407 [==============================] - 228s 162ms/step - loss: 4.6053 - accuracy: 0.0999 - val_loss: 4.6075 - val_accuracy: 0.1010\n",
      "Epoch 57/100\n",
      "1407/1407 [==============================] - 226s 160ms/step - loss: 4.6053 - accuracy: 0.0999 - val_loss: 4.6075 - val_accuracy: 0.1010\n",
      "Epoch 58/100\n",
      "1407/1407 [==============================] - 226s 161ms/step - loss: 4.6053 - accuracy: 0.0999 - val_loss: 4.6075 - val_accuracy: 0.1010\n",
      "Epoch 59/100\n",
      "1407/1407 [==============================] - 234s 166ms/step - loss: 4.6053 - accuracy: 0.0999 - val_loss: 4.6075 - val_accuracy: 0.1010\n",
      "Epoch 60/100\n",
      "1407/1407 [==============================] - 235s 167ms/step - loss: 4.6053 - accuracy: 0.0999 - val_loss: 4.6075 - val_accuracy: 0.1010\n",
      "Epoch 61/100\n",
      "1407/1407 [==============================] - 232s 165ms/step - loss: 4.6053 - accuracy: 0.0999 - val_loss: 4.6075 - val_accuracy: 0.1010\n",
      "Epoch 62/100\n",
      "1407/1407 [==============================] - 233s 165ms/step - loss: 4.6053 - accuracy: 0.0999 - val_loss: 4.6075 - val_accuracy: 0.1010\n",
      "Epoch 63/100\n",
      "1407/1407 [==============================] - 229s 163ms/step - loss: 4.6053 - accuracy: 0.0999 - val_loss: 4.6075 - val_accuracy: 0.1010\n",
      "Epoch 64/100\n",
      "1407/1407 [==============================] - 303s 216ms/step - loss: 4.6053 - accuracy: 0.0999 - val_loss: 4.6075 - val_accuracy: 0.1010\n",
      "Epoch 65/100\n",
      "1407/1407 [==============================] - 315s 224ms/step - loss: 4.6053 - accuracy: 0.0999 - val_loss: 4.6075 - val_accuracy: 0.1010\n",
      "Epoch 66/100\n",
      "1407/1407 [==============================] - 314s 224ms/step - loss: 4.6053 - accuracy: 0.0999 - val_loss: 4.6075 - val_accuracy: 0.1010\n",
      "Epoch 67/100\n",
      "1407/1407 [==============================] - 319s 227ms/step - loss: 4.6053 - accuracy: 0.0999 - val_loss: 4.6075 - val_accuracy: 0.1010\n",
      "Epoch 68/100\n",
      "1407/1407 [==============================] - 313s 223ms/step - loss: 4.6053 - accuracy: 0.0999 - val_loss: 4.6075 - val_accuracy: 0.1010\n",
      "Epoch 69/100\n",
      "1407/1407 [==============================] - 314s 223ms/step - loss: 4.6053 - accuracy: 0.0999 - val_loss: 4.6075 - val_accuracy: 0.1010\n",
      "Epoch 70/100\n",
      "1407/1407 [==============================] - 313s 223ms/step - loss: 4.6053 - accuracy: 0.0999 - val_loss: 4.6075 - val_accuracy: 0.1010\n",
      "Epoch 71/100\n",
      "1407/1407 [==============================] - 313s 222ms/step - loss: 4.6053 - accuracy: 0.0999 - val_loss: 4.6075 - val_accuracy: 0.1010\n",
      "Epoch 72/100\n",
      "1407/1407 [==============================] - 310s 221ms/step - loss: 4.6053 - accuracy: 0.0999 - val_loss: 4.6075 - val_accuracy: 0.1010\n",
      "Epoch 73/100\n",
      "1407/1407 [==============================] - 312s 222ms/step - loss: 4.6053 - accuracy: 0.0999 - val_loss: 4.6075 - val_accuracy: 0.1010\n",
      "Epoch 74/100\n",
      "1407/1407 [==============================] - 297s 211ms/step - loss: 4.6053 - accuracy: 0.0999 - val_loss: 4.6075 - val_accuracy: 0.1010\n",
      "Epoch 75/100\n",
      "1407/1407 [==============================] - 236s 168ms/step - loss: 4.6053 - accuracy: 0.0999 - val_loss: 4.6075 - val_accuracy: 0.1010\n",
      "Epoch 76/100\n",
      "1407/1407 [==============================] - 258s 184ms/step - loss: 4.6053 - accuracy: 0.0999 - val_loss: 4.6075 - val_accuracy: 0.1010\n",
      "Epoch 77/100\n",
      "1407/1407 [==============================] - 240s 171ms/step - loss: 4.6053 - accuracy: 0.0999 - val_loss: 4.6075 - val_accuracy: 0.1010\n",
      "Epoch 78/100\n",
      "1407/1407 [==============================] - 240s 171ms/step - loss: 4.6053 - accuracy: 0.0999 - val_loss: 4.6075 - val_accuracy: 0.1010\n",
      "Epoch 79/100\n",
      "1407/1407 [==============================] - 241s 171ms/step - loss: 4.6053 - accuracy: 0.0999 - val_loss: 4.6075 - val_accuracy: 0.1010\n",
      "Epoch 80/100\n",
      "1407/1407 [==============================] - 244s 173ms/step - loss: 4.6053 - accuracy: 0.0999 - val_loss: 4.6075 - val_accuracy: 0.1010\n",
      "Epoch 81/100\n",
      "1407/1407 [==============================] - 240s 171ms/step - loss: 4.6053 - accuracy: 0.0999 - val_loss: 4.6075 - val_accuracy: 0.1010\n",
      "Epoch 82/100\n",
      "1407/1407 [==============================] - 242s 172ms/step - loss: 4.6053 - accuracy: 0.0999 - val_loss: 4.6075 - val_accuracy: 0.1010\n",
      "Epoch 83/100\n",
      "1407/1407 [==============================] - 242s 172ms/step - loss: 4.6053 - accuracy: 0.0999 - val_loss: 4.6075 - val_accuracy: 0.1010\n",
      "Epoch 84/100\n",
      "1407/1407 [==============================] - 241s 171ms/step - loss: 4.6053 - accuracy: 0.0999 - val_loss: 4.6075 - val_accuracy: 0.1010\n",
      "Epoch 85/100\n",
      "1407/1407 [==============================] - 241s 171ms/step - loss: 4.6053 - accuracy: 0.0999 - val_loss: 4.6075 - val_accuracy: 0.1010\n",
      "Epoch 86/100\n",
      "1407/1407 [==============================] - 241s 171ms/step - loss: 4.6053 - accuracy: 0.0999 - val_loss: 4.6075 - val_accuracy: 0.1010\n",
      "Epoch 87/100\n",
      "1407/1407 [==============================] - 242s 172ms/step - loss: 4.6053 - accuracy: 0.0999 - val_loss: 4.6075 - val_accuracy: 0.1010\n",
      "Epoch 88/100\n",
      "1407/1407 [==============================] - 241s 172ms/step - loss: 4.6053 - accuracy: 0.0999 - val_loss: 4.6075 - val_accuracy: 0.1010\n",
      "Epoch 89/100\n",
      "1407/1407 [==============================] - 243s 172ms/step - loss: 4.6053 - accuracy: 0.0999 - val_loss: 4.6075 - val_accuracy: 0.1010\n",
      "Epoch 90/100\n",
      "1407/1407 [==============================] - 245s 174ms/step - loss: 4.6053 - accuracy: 0.0999 - val_loss: 4.6075 - val_accuracy: 0.1010\n",
      "Epoch 91/100\n",
      "1407/1407 [==============================] - 242s 172ms/step - loss: 4.6053 - accuracy: 0.0999 - val_loss: 4.6075 - val_accuracy: 0.1010\n",
      "Epoch 92/100\n",
      "1407/1407 [==============================] - 242s 172ms/step - loss: 4.6053 - accuracy: 0.0999 - val_loss: 4.6075 - val_accuracy: 0.1010\n",
      "Epoch 93/100\n",
      "1407/1407 [==============================] - 243s 173ms/step - loss: 4.6053 - accuracy: 0.0999 - val_loss: 4.6075 - val_accuracy: 0.1010\n",
      "Epoch 94/100\n",
      "1407/1407 [==============================] - 242s 172ms/step - loss: 4.6053 - accuracy: 0.0999 - val_loss: 4.6075 - val_accuracy: 0.1010\n",
      "Epoch 95/100\n",
      "1407/1407 [==============================] - 253s 180ms/step - loss: 4.6053 - accuracy: 0.0999 - val_loss: 4.6075 - val_accuracy: 0.1010\n",
      "Epoch 96/100\n",
      "1407/1407 [==============================] - 248s 177ms/step - loss: 4.6053 - accuracy: 0.0999 - val_loss: 4.6075 - val_accuracy: 0.1010\n",
      "Epoch 97/100\n",
      "1407/1407 [==============================] - 243s 173ms/step - loss: 4.6053 - accuracy: 0.0999 - val_loss: 4.6075 - val_accuracy: 0.1010\n",
      "Epoch 98/100\n",
      "1407/1407 [==============================] - 244s 174ms/step - loss: 4.6053 - accuracy: 0.0999 - val_loss: 4.6075 - val_accuracy: 0.1010\n",
      "Epoch 99/100\n",
      "1407/1407 [==============================] - 243s 173ms/step - loss: 4.6053 - accuracy: 0.0999 - val_loss: 4.6075 - val_accuracy: 0.1010\n",
      "Epoch 100/100\n",
      "1407/1407 [==============================] - 243s 173ms/step - loss: 4.6053 - accuracy: 0.0999 - val_loss: 4.6075 - val_accuracy: 0.1010\n"
     ]
    }
   ],
   "source": [
    "history = model.fit(X_train, y_train, epochs=100,\n",
    "                validation_data=(X_valid, y_valid))"
   ]
  },
  {
   "cell_type": "code",
   "execution_count": 24,
   "metadata": {},
   "outputs": [
    {
     "name": "stdout",
     "output_type": "stream",
     "text": [
      "313/313 [==============================] - 48s 151ms/step - loss: 4.6052 - accuracy: 0.1000\n"
     ]
    },
    {
     "data": {
      "text/plain": [
       "[4.60518217086792, 0.10000000149011612]"
      ]
     },
     "execution_count": 24,
     "metadata": {},
     "output_type": "execute_result"
    }
   ],
   "source": [
    "model.evaluate(X_test, y_test)"
   ]
  }
 ],
 "metadata": {
  "kernelspec": {
   "display_name": "Python 3 (ipykernel)",
   "language": "python",
   "name": "python3"
  },
  "language_info": {
   "codemirror_mode": {
    "name": "ipython",
    "version": 3
   },
   "file_extension": ".py",
   "mimetype": "text/x-python",
   "name": "python",
   "nbconvert_exporter": "python",
   "pygments_lexer": "ipython3",
   "version": "3.12.2"
  }
 },
 "nbformat": 4,
 "nbformat_minor": 4
}
